{
 "cells": [
  {
   "cell_type": "markdown",
   "id": "1c477cf5-706f-4f15-92e2-7eb5f8431477",
   "metadata": {},
   "source": [
    "### Notes:\n",
    "\n",
    "- Hyperparameter tuning is attempted for better results but could not be completed due to limited resourses."
   ]
  },
  {
   "cell_type": "code",
   "execution_count": 1,
   "id": "ea37717b-e7f5-4c77-9a59-597cb00cc247",
   "metadata": {
    "id": "ea37717b-e7f5-4c77-9a59-597cb00cc247"
   },
   "outputs": [],
   "source": [
    "# !pip install shap"
   ]
  },
  {
   "cell_type": "code",
   "execution_count": 2,
   "id": "f8e6ac5b-915c-4121-8e01-1af142e67c06",
   "metadata": {
    "id": "f8e6ac5b-915c-4121-8e01-1af142e67c06"
   },
   "outputs": [],
   "source": [
    "# Basic libraries\n",
    "import pandas as pd\n",
    "import numpy as np\n",
    "import matplotlib.pyplot as plt\n",
    "import seaborn as sns\n",
    "\n",
    "# Preprocessing\n",
    "from sklearn.preprocessing import LabelEncoder, StandardScaler\n",
    "\n",
    "# Models\n",
    "from sklearn.ensemble import IsolationForest\n",
    "from sklearn.neighbors import LocalOutlierFactor\n",
    "\n",
    "# Evaluation\n",
    "from sklearn.metrics import classification_report, confusion_matrix, roc_auc_score\n",
    "\n",
    "# Explainability\n",
    "import shap\n",
    "\n",
    "# Warnings\n",
    "import warnings\n",
    "warnings.filterwarnings('ignore')"
   ]
  },
  {
   "cell_type": "code",
   "execution_count": 3,
   "id": "abd0f71b-d166-42aa-a936-32b0e21c73f5",
   "metadata": {
    "colab": {
     "base_uri": "https://localhost:8080/"
    },
    "id": "abd0f71b-d166-42aa-a936-32b0e21c73f5",
    "outputId": "87182ecd-9817-4d70-bd65-5e8fef74e3b7"
   },
   "outputs": [
    {
     "name": "stdout",
     "output_type": "stream",
     "text": [
      "1296675\n",
      "555719\n"
     ]
    }
   ],
   "source": [
    "# Load the datasets\n",
    "train_df = pd.read_csv(\"fraudTrain.csv\", index_col=0)\n",
    "test_df = pd.read_csv(\"fraudTest.csv\", index_col=0)\n",
    "\n",
    "print(len(train_df))\n",
    "print(len(test_df))\n",
    "\n",
    "# train_df = train_df[:int(0.01*len(train_df))]\n",
    "# test_df = test_df[:int(0.01*len(test_df))]\n",
    "\n",
    "# train_df.to_csv(\"fraudTrain_0p001.csv\")\n",
    "# test_df.to_csv(\"fraudTest_0p001.csv\")"
   ]
  },
  {
   "cell_type": "code",
   "execution_count": 4,
   "id": "Koc3j4dd0faz",
   "metadata": {
    "colab": {
     "base_uri": "https://localhost:8080/",
     "height": 533
    },
    "id": "Koc3j4dd0faz",
    "outputId": "1c5b83ce-6c18-4753-d911-4bb0fa95a662"
   },
   "outputs": [
    {
     "data": {
      "text/html": [
       "<div>\n",
       "<style scoped>\n",
       "    .dataframe tbody tr th:only-of-type {\n",
       "        vertical-align: middle;\n",
       "    }\n",
       "\n",
       "    .dataframe tbody tr th {\n",
       "        vertical-align: top;\n",
       "    }\n",
       "\n",
       "    .dataframe thead th {\n",
       "        text-align: right;\n",
       "    }\n",
       "</style>\n",
       "<table border=\"1\" class=\"dataframe\">\n",
       "  <thead>\n",
       "    <tr style=\"text-align: right;\">\n",
       "      <th></th>\n",
       "      <th>trans_date_trans_time</th>\n",
       "      <th>cc_num</th>\n",
       "      <th>merchant</th>\n",
       "      <th>category</th>\n",
       "      <th>amt</th>\n",
       "      <th>first</th>\n",
       "      <th>last</th>\n",
       "      <th>gender</th>\n",
       "      <th>street</th>\n",
       "      <th>city</th>\n",
       "      <th>...</th>\n",
       "      <th>lat</th>\n",
       "      <th>long</th>\n",
       "      <th>city_pop</th>\n",
       "      <th>job</th>\n",
       "      <th>dob</th>\n",
       "      <th>trans_num</th>\n",
       "      <th>unix_time</th>\n",
       "      <th>merch_lat</th>\n",
       "      <th>merch_long</th>\n",
       "      <th>is_fraud</th>\n",
       "    </tr>\n",
       "  </thead>\n",
       "  <tbody>\n",
       "    <tr>\n",
       "      <th>0</th>\n",
       "      <td>2019-01-01 00:00:18</td>\n",
       "      <td>2703186189652095</td>\n",
       "      <td>fraud_Rippin, Kub and Mann</td>\n",
       "      <td>misc_net</td>\n",
       "      <td>4.97</td>\n",
       "      <td>Jennifer</td>\n",
       "      <td>Banks</td>\n",
       "      <td>F</td>\n",
       "      <td>561 Perry Cove</td>\n",
       "      <td>Moravian Falls</td>\n",
       "      <td>...</td>\n",
       "      <td>36.0788</td>\n",
       "      <td>-81.1781</td>\n",
       "      <td>3495</td>\n",
       "      <td>Psychologist, counselling</td>\n",
       "      <td>1988-03-09</td>\n",
       "      <td>0b242abb623afc578575680df30655b9</td>\n",
       "      <td>1325376018</td>\n",
       "      <td>36.011293</td>\n",
       "      <td>-82.048315</td>\n",
       "      <td>0</td>\n",
       "    </tr>\n",
       "    <tr>\n",
       "      <th>1</th>\n",
       "      <td>2019-01-01 00:00:44</td>\n",
       "      <td>630423337322</td>\n",
       "      <td>fraud_Heller, Gutmann and Zieme</td>\n",
       "      <td>grocery_pos</td>\n",
       "      <td>107.23</td>\n",
       "      <td>Stephanie</td>\n",
       "      <td>Gill</td>\n",
       "      <td>F</td>\n",
       "      <td>43039 Riley Greens Suite 393</td>\n",
       "      <td>Orient</td>\n",
       "      <td>...</td>\n",
       "      <td>48.8878</td>\n",
       "      <td>-118.2105</td>\n",
       "      <td>149</td>\n",
       "      <td>Special educational needs teacher</td>\n",
       "      <td>1978-06-21</td>\n",
       "      <td>1f76529f8574734946361c461b024d99</td>\n",
       "      <td>1325376044</td>\n",
       "      <td>49.159047</td>\n",
       "      <td>-118.186462</td>\n",
       "      <td>0</td>\n",
       "    </tr>\n",
       "    <tr>\n",
       "      <th>2</th>\n",
       "      <td>2019-01-01 00:00:51</td>\n",
       "      <td>38859492057661</td>\n",
       "      <td>fraud_Lind-Buckridge</td>\n",
       "      <td>entertainment</td>\n",
       "      <td>220.11</td>\n",
       "      <td>Edward</td>\n",
       "      <td>Sanchez</td>\n",
       "      <td>M</td>\n",
       "      <td>594 White Dale Suite 530</td>\n",
       "      <td>Malad City</td>\n",
       "      <td>...</td>\n",
       "      <td>42.1808</td>\n",
       "      <td>-112.2620</td>\n",
       "      <td>4154</td>\n",
       "      <td>Nature conservation officer</td>\n",
       "      <td>1962-01-19</td>\n",
       "      <td>a1a22d70485983eac12b5b88dad1cf95</td>\n",
       "      <td>1325376051</td>\n",
       "      <td>43.150704</td>\n",
       "      <td>-112.154481</td>\n",
       "      <td>0</td>\n",
       "    </tr>\n",
       "    <tr>\n",
       "      <th>3</th>\n",
       "      <td>2019-01-01 00:01:16</td>\n",
       "      <td>3534093764340240</td>\n",
       "      <td>fraud_Kutch, Hermiston and Farrell</td>\n",
       "      <td>gas_transport</td>\n",
       "      <td>45.00</td>\n",
       "      <td>Jeremy</td>\n",
       "      <td>White</td>\n",
       "      <td>M</td>\n",
       "      <td>9443 Cynthia Court Apt. 038</td>\n",
       "      <td>Boulder</td>\n",
       "      <td>...</td>\n",
       "      <td>46.2306</td>\n",
       "      <td>-112.1138</td>\n",
       "      <td>1939</td>\n",
       "      <td>Patent attorney</td>\n",
       "      <td>1967-01-12</td>\n",
       "      <td>6b849c168bdad6f867558c3793159a81</td>\n",
       "      <td>1325376076</td>\n",
       "      <td>47.034331</td>\n",
       "      <td>-112.561071</td>\n",
       "      <td>0</td>\n",
       "    </tr>\n",
       "    <tr>\n",
       "      <th>4</th>\n",
       "      <td>2019-01-01 00:03:06</td>\n",
       "      <td>375534208663984</td>\n",
       "      <td>fraud_Keeling-Crist</td>\n",
       "      <td>misc_pos</td>\n",
       "      <td>41.96</td>\n",
       "      <td>Tyler</td>\n",
       "      <td>Garcia</td>\n",
       "      <td>M</td>\n",
       "      <td>408 Bradley Rest</td>\n",
       "      <td>Doe Hill</td>\n",
       "      <td>...</td>\n",
       "      <td>38.4207</td>\n",
       "      <td>-79.4629</td>\n",
       "      <td>99</td>\n",
       "      <td>Dance movement psychotherapist</td>\n",
       "      <td>1986-03-28</td>\n",
       "      <td>a41d7549acf90789359a9aa5346dcb46</td>\n",
       "      <td>1325376186</td>\n",
       "      <td>38.674999</td>\n",
       "      <td>-78.632459</td>\n",
       "      <td>0</td>\n",
       "    </tr>\n",
       "  </tbody>\n",
       "</table>\n",
       "<p>5 rows × 22 columns</p>\n",
       "</div>"
      ],
      "text/plain": [
       "  trans_date_trans_time            cc_num                            merchant  \\\n",
       "0   2019-01-01 00:00:18  2703186189652095          fraud_Rippin, Kub and Mann   \n",
       "1   2019-01-01 00:00:44      630423337322     fraud_Heller, Gutmann and Zieme   \n",
       "2   2019-01-01 00:00:51    38859492057661                fraud_Lind-Buckridge   \n",
       "3   2019-01-01 00:01:16  3534093764340240  fraud_Kutch, Hermiston and Farrell   \n",
       "4   2019-01-01 00:03:06   375534208663984                 fraud_Keeling-Crist   \n",
       "\n",
       "        category     amt      first     last gender  \\\n",
       "0       misc_net    4.97   Jennifer    Banks      F   \n",
       "1    grocery_pos  107.23  Stephanie     Gill      F   \n",
       "2  entertainment  220.11     Edward  Sanchez      M   \n",
       "3  gas_transport   45.00     Jeremy    White      M   \n",
       "4       misc_pos   41.96      Tyler   Garcia      M   \n",
       "\n",
       "                         street            city  ...      lat      long  \\\n",
       "0                561 Perry Cove  Moravian Falls  ...  36.0788  -81.1781   \n",
       "1  43039 Riley Greens Suite 393          Orient  ...  48.8878 -118.2105   \n",
       "2      594 White Dale Suite 530      Malad City  ...  42.1808 -112.2620   \n",
       "3   9443 Cynthia Court Apt. 038         Boulder  ...  46.2306 -112.1138   \n",
       "4              408 Bradley Rest        Doe Hill  ...  38.4207  -79.4629   \n",
       "\n",
       "   city_pop                                job         dob  \\\n",
       "0      3495          Psychologist, counselling  1988-03-09   \n",
       "1       149  Special educational needs teacher  1978-06-21   \n",
       "2      4154        Nature conservation officer  1962-01-19   \n",
       "3      1939                    Patent attorney  1967-01-12   \n",
       "4        99     Dance movement psychotherapist  1986-03-28   \n",
       "\n",
       "                          trans_num   unix_time  merch_lat  merch_long  \\\n",
       "0  0b242abb623afc578575680df30655b9  1325376018  36.011293  -82.048315   \n",
       "1  1f76529f8574734946361c461b024d99  1325376044  49.159047 -118.186462   \n",
       "2  a1a22d70485983eac12b5b88dad1cf95  1325376051  43.150704 -112.154481   \n",
       "3  6b849c168bdad6f867558c3793159a81  1325376076  47.034331 -112.561071   \n",
       "4  a41d7549acf90789359a9aa5346dcb46  1325376186  38.674999  -78.632459   \n",
       "\n",
       "   is_fraud  \n",
       "0         0  \n",
       "1         0  \n",
       "2         0  \n",
       "3         0  \n",
       "4         0  \n",
       "\n",
       "[5 rows x 22 columns]"
      ]
     },
     "execution_count": 4,
     "metadata": {},
     "output_type": "execute_result"
    }
   ],
   "source": [
    "train_df.head()"
   ]
  },
  {
   "cell_type": "code",
   "execution_count": 5,
   "id": "jzPIR3Ti05Y8",
   "metadata": {
    "colab": {
     "base_uri": "https://localhost:8080/",
     "height": 463
    },
    "id": "jzPIR3Ti05Y8",
    "outputId": "04181488-235b-4763-b72a-fc1cb0ee3ab7"
   },
   "outputs": [
    {
     "data": {
      "text/html": [
       "<div>\n",
       "<style scoped>\n",
       "    .dataframe tbody tr th:only-of-type {\n",
       "        vertical-align: middle;\n",
       "    }\n",
       "\n",
       "    .dataframe tbody tr th {\n",
       "        vertical-align: top;\n",
       "    }\n",
       "\n",
       "    .dataframe thead th {\n",
       "        text-align: right;\n",
       "    }\n",
       "</style>\n",
       "<table border=\"1\" class=\"dataframe\">\n",
       "  <thead>\n",
       "    <tr style=\"text-align: right;\">\n",
       "      <th></th>\n",
       "      <th>trans_date_trans_time</th>\n",
       "      <th>cc_num</th>\n",
       "      <th>merchant</th>\n",
       "      <th>category</th>\n",
       "      <th>amt</th>\n",
       "      <th>first</th>\n",
       "      <th>last</th>\n",
       "      <th>gender</th>\n",
       "      <th>street</th>\n",
       "      <th>city</th>\n",
       "      <th>...</th>\n",
       "      <th>lat</th>\n",
       "      <th>long</th>\n",
       "      <th>city_pop</th>\n",
       "      <th>job</th>\n",
       "      <th>dob</th>\n",
       "      <th>trans_num</th>\n",
       "      <th>unix_time</th>\n",
       "      <th>merch_lat</th>\n",
       "      <th>merch_long</th>\n",
       "      <th>is_fraud</th>\n",
       "    </tr>\n",
       "  </thead>\n",
       "  <tbody>\n",
       "    <tr>\n",
       "      <th>0</th>\n",
       "      <td>2020-06-21 12:14:25</td>\n",
       "      <td>2291163933867244</td>\n",
       "      <td>fraud_Kirlin and Sons</td>\n",
       "      <td>personal_care</td>\n",
       "      <td>2.86</td>\n",
       "      <td>Jeff</td>\n",
       "      <td>Elliott</td>\n",
       "      <td>M</td>\n",
       "      <td>351 Darlene Green</td>\n",
       "      <td>Columbia</td>\n",
       "      <td>...</td>\n",
       "      <td>33.9659</td>\n",
       "      <td>-80.9355</td>\n",
       "      <td>333497</td>\n",
       "      <td>Mechanical engineer</td>\n",
       "      <td>1968-03-19</td>\n",
       "      <td>2da90c7d74bd46a0caf3777415b3ebd3</td>\n",
       "      <td>1371816865</td>\n",
       "      <td>33.986391</td>\n",
       "      <td>-81.200714</td>\n",
       "      <td>0</td>\n",
       "    </tr>\n",
       "    <tr>\n",
       "      <th>1</th>\n",
       "      <td>2020-06-21 12:14:33</td>\n",
       "      <td>3573030041201292</td>\n",
       "      <td>fraud_Sporer-Keebler</td>\n",
       "      <td>personal_care</td>\n",
       "      <td>29.84</td>\n",
       "      <td>Joanne</td>\n",
       "      <td>Williams</td>\n",
       "      <td>F</td>\n",
       "      <td>3638 Marsh Union</td>\n",
       "      <td>Altonah</td>\n",
       "      <td>...</td>\n",
       "      <td>40.3207</td>\n",
       "      <td>-110.4360</td>\n",
       "      <td>302</td>\n",
       "      <td>Sales professional, IT</td>\n",
       "      <td>1990-01-17</td>\n",
       "      <td>324cc204407e99f51b0d6ca0055005e7</td>\n",
       "      <td>1371816873</td>\n",
       "      <td>39.450498</td>\n",
       "      <td>-109.960431</td>\n",
       "      <td>0</td>\n",
       "    </tr>\n",
       "    <tr>\n",
       "      <th>2</th>\n",
       "      <td>2020-06-21 12:14:53</td>\n",
       "      <td>3598215285024754</td>\n",
       "      <td>fraud_Swaniawski, Nitzsche and Welch</td>\n",
       "      <td>health_fitness</td>\n",
       "      <td>41.28</td>\n",
       "      <td>Ashley</td>\n",
       "      <td>Lopez</td>\n",
       "      <td>F</td>\n",
       "      <td>9333 Valentine Point</td>\n",
       "      <td>Bellmore</td>\n",
       "      <td>...</td>\n",
       "      <td>40.6729</td>\n",
       "      <td>-73.5365</td>\n",
       "      <td>34496</td>\n",
       "      <td>Librarian, public</td>\n",
       "      <td>1970-10-21</td>\n",
       "      <td>c81755dbbbea9d5c77f094348a7579be</td>\n",
       "      <td>1371816893</td>\n",
       "      <td>40.495810</td>\n",
       "      <td>-74.196111</td>\n",
       "      <td>0</td>\n",
       "    </tr>\n",
       "    <tr>\n",
       "      <th>3</th>\n",
       "      <td>2020-06-21 12:15:15</td>\n",
       "      <td>3591919803438423</td>\n",
       "      <td>fraud_Haley Group</td>\n",
       "      <td>misc_pos</td>\n",
       "      <td>60.05</td>\n",
       "      <td>Brian</td>\n",
       "      <td>Williams</td>\n",
       "      <td>M</td>\n",
       "      <td>32941 Krystal Mill Apt. 552</td>\n",
       "      <td>Titusville</td>\n",
       "      <td>...</td>\n",
       "      <td>28.5697</td>\n",
       "      <td>-80.8191</td>\n",
       "      <td>54767</td>\n",
       "      <td>Set designer</td>\n",
       "      <td>1987-07-25</td>\n",
       "      <td>2159175b9efe66dc301f149d3d5abf8c</td>\n",
       "      <td>1371816915</td>\n",
       "      <td>28.812398</td>\n",
       "      <td>-80.883061</td>\n",
       "      <td>0</td>\n",
       "    </tr>\n",
       "    <tr>\n",
       "      <th>4</th>\n",
       "      <td>2020-06-21 12:15:17</td>\n",
       "      <td>3526826139003047</td>\n",
       "      <td>fraud_Johnston-Casper</td>\n",
       "      <td>travel</td>\n",
       "      <td>3.19</td>\n",
       "      <td>Nathan</td>\n",
       "      <td>Massey</td>\n",
       "      <td>M</td>\n",
       "      <td>5783 Evan Roads Apt. 465</td>\n",
       "      <td>Falmouth</td>\n",
       "      <td>...</td>\n",
       "      <td>44.2529</td>\n",
       "      <td>-85.0170</td>\n",
       "      <td>1126</td>\n",
       "      <td>Furniture designer</td>\n",
       "      <td>1955-07-06</td>\n",
       "      <td>57ff021bd3f328f8738bb535c302a31b</td>\n",
       "      <td>1371816917</td>\n",
       "      <td>44.959148</td>\n",
       "      <td>-85.884734</td>\n",
       "      <td>0</td>\n",
       "    </tr>\n",
       "  </tbody>\n",
       "</table>\n",
       "<p>5 rows × 22 columns</p>\n",
       "</div>"
      ],
      "text/plain": [
       "  trans_date_trans_time            cc_num  \\\n",
       "0   2020-06-21 12:14:25  2291163933867244   \n",
       "1   2020-06-21 12:14:33  3573030041201292   \n",
       "2   2020-06-21 12:14:53  3598215285024754   \n",
       "3   2020-06-21 12:15:15  3591919803438423   \n",
       "4   2020-06-21 12:15:17  3526826139003047   \n",
       "\n",
       "                               merchant        category    amt   first  \\\n",
       "0                 fraud_Kirlin and Sons   personal_care   2.86    Jeff   \n",
       "1                  fraud_Sporer-Keebler   personal_care  29.84  Joanne   \n",
       "2  fraud_Swaniawski, Nitzsche and Welch  health_fitness  41.28  Ashley   \n",
       "3                     fraud_Haley Group        misc_pos  60.05   Brian   \n",
       "4                 fraud_Johnston-Casper          travel   3.19  Nathan   \n",
       "\n",
       "       last gender                       street        city  ...      lat  \\\n",
       "0   Elliott      M            351 Darlene Green    Columbia  ...  33.9659   \n",
       "1  Williams      F             3638 Marsh Union     Altonah  ...  40.3207   \n",
       "2     Lopez      F         9333 Valentine Point    Bellmore  ...  40.6729   \n",
       "3  Williams      M  32941 Krystal Mill Apt. 552  Titusville  ...  28.5697   \n",
       "4    Massey      M     5783 Evan Roads Apt. 465    Falmouth  ...  44.2529   \n",
       "\n",
       "       long  city_pop                     job         dob  \\\n",
       "0  -80.9355    333497     Mechanical engineer  1968-03-19   \n",
       "1 -110.4360       302  Sales professional, IT  1990-01-17   \n",
       "2  -73.5365     34496       Librarian, public  1970-10-21   \n",
       "3  -80.8191     54767            Set designer  1987-07-25   \n",
       "4  -85.0170      1126      Furniture designer  1955-07-06   \n",
       "\n",
       "                          trans_num   unix_time  merch_lat  merch_long  \\\n",
       "0  2da90c7d74bd46a0caf3777415b3ebd3  1371816865  33.986391  -81.200714   \n",
       "1  324cc204407e99f51b0d6ca0055005e7  1371816873  39.450498 -109.960431   \n",
       "2  c81755dbbbea9d5c77f094348a7579be  1371816893  40.495810  -74.196111   \n",
       "3  2159175b9efe66dc301f149d3d5abf8c  1371816915  28.812398  -80.883061   \n",
       "4  57ff021bd3f328f8738bb535c302a31b  1371816917  44.959148  -85.884734   \n",
       "\n",
       "   is_fraud  \n",
       "0         0  \n",
       "1         0  \n",
       "2         0  \n",
       "3         0  \n",
       "4         0  \n",
       "\n",
       "[5 rows x 22 columns]"
      ]
     },
     "execution_count": 5,
     "metadata": {},
     "output_type": "execute_result"
    }
   ],
   "source": [
    "test_df.head()"
   ]
  },
  {
   "cell_type": "code",
   "execution_count": 34,
   "id": "9a5313f4-6f46-44b5-9842-f8529154c05d",
   "metadata": {},
   "outputs": [
    {
     "data": {
      "text/plain": [
       "(1296675, 22)"
      ]
     },
     "execution_count": 34,
     "metadata": {},
     "output_type": "execute_result"
    }
   ],
   "source": [
    "train_df.shape"
   ]
  },
  {
   "cell_type": "code",
   "execution_count": 35,
   "id": "d38d892e-1d4c-41c0-b484-af958cc9bc68",
   "metadata": {},
   "outputs": [
    {
     "data": {
      "text/plain": [
       "(555719, 22)"
      ]
     },
     "execution_count": 35,
     "metadata": {},
     "output_type": "execute_result"
    }
   ],
   "source": [
    "test_df.shape"
   ]
  },
  {
   "cell_type": "code",
   "execution_count": 36,
   "id": "f7c06b48-0b99-4031-993f-704a4ce55f48",
   "metadata": {},
   "outputs": [
    {
     "name": "stdout",
     "output_type": "stream",
     "text": [
      "<class 'pandas.core.frame.DataFrame'>\n",
      "Index: 1296675 entries, 0 to 1296674\n",
      "Data columns (total 22 columns):\n",
      " #   Column                 Non-Null Count    Dtype  \n",
      "---  ------                 --------------    -----  \n",
      " 0   trans_date_trans_time  1296675 non-null  object \n",
      " 1   cc_num                 1296675 non-null  int64  \n",
      " 2   merchant               1296675 non-null  object \n",
      " 3   category               1296675 non-null  object \n",
      " 4   amt                    1296675 non-null  float64\n",
      " 5   first                  1296675 non-null  object \n",
      " 6   last                   1296675 non-null  object \n",
      " 7   gender                 1296675 non-null  object \n",
      " 8   street                 1296675 non-null  object \n",
      " 9   city                   1296675 non-null  object \n",
      " 10  state                  1296675 non-null  object \n",
      " 11  zip                    1296675 non-null  int64  \n",
      " 12  lat                    1296675 non-null  float64\n",
      " 13  long                   1296675 non-null  float64\n",
      " 14  city_pop               1296675 non-null  int64  \n",
      " 15  job                    1296675 non-null  object \n",
      " 16  dob                    1296675 non-null  object \n",
      " 17  trans_num              1296675 non-null  object \n",
      " 18  unix_time              1296675 non-null  int64  \n",
      " 19  merch_lat              1296675 non-null  float64\n",
      " 20  merch_long             1296675 non-null  float64\n",
      " 21  is_fraud               1296675 non-null  int64  \n",
      "dtypes: float64(5), int64(5), object(12)\n",
      "memory usage: 227.5+ MB\n"
     ]
    }
   ],
   "source": [
    "train_df.info()"
   ]
  },
  {
   "cell_type": "code",
   "execution_count": 37,
   "id": "a6ab2d4c-42e4-4f86-a5b8-518c0f37647d",
   "metadata": {},
   "outputs": [
    {
     "name": "stdout",
     "output_type": "stream",
     "text": [
      "<class 'pandas.core.frame.DataFrame'>\n",
      "Index: 555719 entries, 0 to 555718\n",
      "Data columns (total 22 columns):\n",
      " #   Column                 Non-Null Count   Dtype  \n",
      "---  ------                 --------------   -----  \n",
      " 0   trans_date_trans_time  555719 non-null  object \n",
      " 1   cc_num                 555719 non-null  int64  \n",
      " 2   merchant               555719 non-null  object \n",
      " 3   category               555719 non-null  object \n",
      " 4   amt                    555719 non-null  float64\n",
      " 5   first                  555719 non-null  object \n",
      " 6   last                   555719 non-null  object \n",
      " 7   gender                 555719 non-null  object \n",
      " 8   street                 555719 non-null  object \n",
      " 9   city                   555719 non-null  object \n",
      " 10  state                  555719 non-null  object \n",
      " 11  zip                    555719 non-null  int64  \n",
      " 12  lat                    555719 non-null  float64\n",
      " 13  long                   555719 non-null  float64\n",
      " 14  city_pop               555719 non-null  int64  \n",
      " 15  job                    555719 non-null  object \n",
      " 16  dob                    555719 non-null  object \n",
      " 17  trans_num              555719 non-null  object \n",
      " 18  unix_time              555719 non-null  int64  \n",
      " 19  merch_lat              555719 non-null  float64\n",
      " 20  merch_long             555719 non-null  float64\n",
      " 21  is_fraud               555719 non-null  int64  \n",
      "dtypes: float64(5), int64(5), object(12)\n",
      "memory usage: 97.5+ MB\n"
     ]
    }
   ],
   "source": [
    "test_df.info()"
   ]
  },
  {
   "cell_type": "code",
   "execution_count": 38,
   "id": "70f1283c-5b08-425c-a249-3a0b9baef525",
   "metadata": {},
   "outputs": [
    {
     "data": {
      "text/html": [
       "<div>\n",
       "<style scoped>\n",
       "    .dataframe tbody tr th:only-of-type {\n",
       "        vertical-align: middle;\n",
       "    }\n",
       "\n",
       "    .dataframe tbody tr th {\n",
       "        vertical-align: top;\n",
       "    }\n",
       "\n",
       "    .dataframe thead th {\n",
       "        text-align: right;\n",
       "    }\n",
       "</style>\n",
       "<table border=\"1\" class=\"dataframe\">\n",
       "  <thead>\n",
       "    <tr style=\"text-align: right;\">\n",
       "      <th></th>\n",
       "      <th>count</th>\n",
       "      <th>mean</th>\n",
       "      <th>std</th>\n",
       "      <th>min</th>\n",
       "      <th>25%</th>\n",
       "      <th>50%</th>\n",
       "      <th>75%</th>\n",
       "      <th>max</th>\n",
       "    </tr>\n",
       "  </thead>\n",
       "  <tbody>\n",
       "    <tr>\n",
       "      <th>cc_num</th>\n",
       "      <td>1296675.0</td>\n",
       "      <td>4.171920e+17</td>\n",
       "      <td>1.308806e+18</td>\n",
       "      <td>6.041621e+10</td>\n",
       "      <td>1.800429e+14</td>\n",
       "      <td>3.521417e+15</td>\n",
       "      <td>4.642255e+15</td>\n",
       "      <td>4.992346e+18</td>\n",
       "    </tr>\n",
       "    <tr>\n",
       "      <th>amt</th>\n",
       "      <td>1296675.0</td>\n",
       "      <td>7.035104e+01</td>\n",
       "      <td>1.603160e+02</td>\n",
       "      <td>1.000000e+00</td>\n",
       "      <td>9.650000e+00</td>\n",
       "      <td>4.752000e+01</td>\n",
       "      <td>8.314000e+01</td>\n",
       "      <td>2.894890e+04</td>\n",
       "    </tr>\n",
       "    <tr>\n",
       "      <th>zip</th>\n",
       "      <td>1296675.0</td>\n",
       "      <td>4.880067e+04</td>\n",
       "      <td>2.689322e+04</td>\n",
       "      <td>1.257000e+03</td>\n",
       "      <td>2.623700e+04</td>\n",
       "      <td>4.817400e+04</td>\n",
       "      <td>7.204200e+04</td>\n",
       "      <td>9.978300e+04</td>\n",
       "    </tr>\n",
       "    <tr>\n",
       "      <th>lat</th>\n",
       "      <td>1296675.0</td>\n",
       "      <td>3.853762e+01</td>\n",
       "      <td>5.075808e+00</td>\n",
       "      <td>2.002710e+01</td>\n",
       "      <td>3.462050e+01</td>\n",
       "      <td>3.935430e+01</td>\n",
       "      <td>4.194040e+01</td>\n",
       "      <td>6.669330e+01</td>\n",
       "    </tr>\n",
       "    <tr>\n",
       "      <th>long</th>\n",
       "      <td>1296675.0</td>\n",
       "      <td>-9.022634e+01</td>\n",
       "      <td>1.375908e+01</td>\n",
       "      <td>-1.656723e+02</td>\n",
       "      <td>-9.679800e+01</td>\n",
       "      <td>-8.747690e+01</td>\n",
       "      <td>-8.015800e+01</td>\n",
       "      <td>-6.795030e+01</td>\n",
       "    </tr>\n",
       "    <tr>\n",
       "      <th>city_pop</th>\n",
       "      <td>1296675.0</td>\n",
       "      <td>8.882444e+04</td>\n",
       "      <td>3.019564e+05</td>\n",
       "      <td>2.300000e+01</td>\n",
       "      <td>7.430000e+02</td>\n",
       "      <td>2.456000e+03</td>\n",
       "      <td>2.032800e+04</td>\n",
       "      <td>2.906700e+06</td>\n",
       "    </tr>\n",
       "    <tr>\n",
       "      <th>unix_time</th>\n",
       "      <td>1296675.0</td>\n",
       "      <td>1.349244e+09</td>\n",
       "      <td>1.284128e+07</td>\n",
       "      <td>1.325376e+09</td>\n",
       "      <td>1.338751e+09</td>\n",
       "      <td>1.349250e+09</td>\n",
       "      <td>1.359385e+09</td>\n",
       "      <td>1.371817e+09</td>\n",
       "    </tr>\n",
       "    <tr>\n",
       "      <th>merch_lat</th>\n",
       "      <td>1296675.0</td>\n",
       "      <td>3.853734e+01</td>\n",
       "      <td>5.109788e+00</td>\n",
       "      <td>1.902779e+01</td>\n",
       "      <td>3.473357e+01</td>\n",
       "      <td>3.936568e+01</td>\n",
       "      <td>4.195716e+01</td>\n",
       "      <td>6.751027e+01</td>\n",
       "    </tr>\n",
       "    <tr>\n",
       "      <th>merch_long</th>\n",
       "      <td>1296675.0</td>\n",
       "      <td>-9.022646e+01</td>\n",
       "      <td>1.377109e+01</td>\n",
       "      <td>-1.666712e+02</td>\n",
       "      <td>-9.689728e+01</td>\n",
       "      <td>-8.743839e+01</td>\n",
       "      <td>-8.023680e+01</td>\n",
       "      <td>-6.695090e+01</td>\n",
       "    </tr>\n",
       "    <tr>\n",
       "      <th>is_fraud</th>\n",
       "      <td>1296675.0</td>\n",
       "      <td>5.788652e-03</td>\n",
       "      <td>7.586269e-02</td>\n",
       "      <td>0.000000e+00</td>\n",
       "      <td>0.000000e+00</td>\n",
       "      <td>0.000000e+00</td>\n",
       "      <td>0.000000e+00</td>\n",
       "      <td>1.000000e+00</td>\n",
       "    </tr>\n",
       "  </tbody>\n",
       "</table>\n",
       "</div>"
      ],
      "text/plain": [
       "                count          mean           std           min           25%  \\\n",
       "cc_num      1296675.0  4.171920e+17  1.308806e+18  6.041621e+10  1.800429e+14   \n",
       "amt         1296675.0  7.035104e+01  1.603160e+02  1.000000e+00  9.650000e+00   \n",
       "zip         1296675.0  4.880067e+04  2.689322e+04  1.257000e+03  2.623700e+04   \n",
       "lat         1296675.0  3.853762e+01  5.075808e+00  2.002710e+01  3.462050e+01   \n",
       "long        1296675.0 -9.022634e+01  1.375908e+01 -1.656723e+02 -9.679800e+01   \n",
       "city_pop    1296675.0  8.882444e+04  3.019564e+05  2.300000e+01  7.430000e+02   \n",
       "unix_time   1296675.0  1.349244e+09  1.284128e+07  1.325376e+09  1.338751e+09   \n",
       "merch_lat   1296675.0  3.853734e+01  5.109788e+00  1.902779e+01  3.473357e+01   \n",
       "merch_long  1296675.0 -9.022646e+01  1.377109e+01 -1.666712e+02 -9.689728e+01   \n",
       "is_fraud    1296675.0  5.788652e-03  7.586269e-02  0.000000e+00  0.000000e+00   \n",
       "\n",
       "                     50%           75%           max  \n",
       "cc_num      3.521417e+15  4.642255e+15  4.992346e+18  \n",
       "amt         4.752000e+01  8.314000e+01  2.894890e+04  \n",
       "zip         4.817400e+04  7.204200e+04  9.978300e+04  \n",
       "lat         3.935430e+01  4.194040e+01  6.669330e+01  \n",
       "long       -8.747690e+01 -8.015800e+01 -6.795030e+01  \n",
       "city_pop    2.456000e+03  2.032800e+04  2.906700e+06  \n",
       "unix_time   1.349250e+09  1.359385e+09  1.371817e+09  \n",
       "merch_lat   3.936568e+01  4.195716e+01  6.751027e+01  \n",
       "merch_long -8.743839e+01 -8.023680e+01 -6.695090e+01  \n",
       "is_fraud    0.000000e+00  0.000000e+00  1.000000e+00  "
      ]
     },
     "execution_count": 38,
     "metadata": {},
     "output_type": "execute_result"
    }
   ],
   "source": [
    "train_df.describe().T"
   ]
  },
  {
   "cell_type": "code",
   "execution_count": 39,
   "id": "9de480bf-1d7d-4fac-be81-a689a075166b",
   "metadata": {},
   "outputs": [
    {
     "data": {
      "text/html": [
       "<div>\n",
       "<style scoped>\n",
       "    .dataframe tbody tr th:only-of-type {\n",
       "        vertical-align: middle;\n",
       "    }\n",
       "\n",
       "    .dataframe tbody tr th {\n",
       "        vertical-align: top;\n",
       "    }\n",
       "\n",
       "    .dataframe thead th {\n",
       "        text-align: right;\n",
       "    }\n",
       "</style>\n",
       "<table border=\"1\" class=\"dataframe\">\n",
       "  <thead>\n",
       "    <tr style=\"text-align: right;\">\n",
       "      <th></th>\n",
       "      <th>count</th>\n",
       "      <th>mean</th>\n",
       "      <th>std</th>\n",
       "      <th>min</th>\n",
       "      <th>25%</th>\n",
       "      <th>50%</th>\n",
       "      <th>75%</th>\n",
       "      <th>max</th>\n",
       "    </tr>\n",
       "  </thead>\n",
       "  <tbody>\n",
       "    <tr>\n",
       "      <th>cc_num</th>\n",
       "      <td>555719.0</td>\n",
       "      <td>4.178387e+17</td>\n",
       "      <td>1.309837e+18</td>\n",
       "      <td>6.041621e+10</td>\n",
       "      <td>1.800429e+14</td>\n",
       "      <td>3.521417e+15</td>\n",
       "      <td>4.635331e+15</td>\n",
       "      <td>4.992346e+18</td>\n",
       "    </tr>\n",
       "    <tr>\n",
       "      <th>amt</th>\n",
       "      <td>555719.0</td>\n",
       "      <td>6.939281e+01</td>\n",
       "      <td>1.567459e+02</td>\n",
       "      <td>1.000000e+00</td>\n",
       "      <td>9.630000e+00</td>\n",
       "      <td>4.729000e+01</td>\n",
       "      <td>8.301000e+01</td>\n",
       "      <td>2.276811e+04</td>\n",
       "    </tr>\n",
       "    <tr>\n",
       "      <th>zip</th>\n",
       "      <td>555719.0</td>\n",
       "      <td>4.884263e+04</td>\n",
       "      <td>2.685528e+04</td>\n",
       "      <td>1.257000e+03</td>\n",
       "      <td>2.629200e+04</td>\n",
       "      <td>4.817400e+04</td>\n",
       "      <td>7.201100e+04</td>\n",
       "      <td>9.992100e+04</td>\n",
       "    </tr>\n",
       "    <tr>\n",
       "      <th>lat</th>\n",
       "      <td>555719.0</td>\n",
       "      <td>3.854325e+01</td>\n",
       "      <td>5.061336e+00</td>\n",
       "      <td>2.002710e+01</td>\n",
       "      <td>3.466890e+01</td>\n",
       "      <td>3.937160e+01</td>\n",
       "      <td>4.189480e+01</td>\n",
       "      <td>6.568990e+01</td>\n",
       "    </tr>\n",
       "    <tr>\n",
       "      <th>long</th>\n",
       "      <td>555719.0</td>\n",
       "      <td>-9.023133e+01</td>\n",
       "      <td>1.372178e+01</td>\n",
       "      <td>-1.656723e+02</td>\n",
       "      <td>-9.679800e+01</td>\n",
       "      <td>-8.747690e+01</td>\n",
       "      <td>-8.017520e+01</td>\n",
       "      <td>-6.795030e+01</td>\n",
       "    </tr>\n",
       "    <tr>\n",
       "      <th>city_pop</th>\n",
       "      <td>555719.0</td>\n",
       "      <td>8.822189e+04</td>\n",
       "      <td>3.003909e+05</td>\n",
       "      <td>2.300000e+01</td>\n",
       "      <td>7.410000e+02</td>\n",
       "      <td>2.408000e+03</td>\n",
       "      <td>1.968500e+04</td>\n",
       "      <td>2.906700e+06</td>\n",
       "    </tr>\n",
       "    <tr>\n",
       "      <th>unix_time</th>\n",
       "      <td>555719.0</td>\n",
       "      <td>1.380679e+09</td>\n",
       "      <td>5.201104e+06</td>\n",
       "      <td>1.371817e+09</td>\n",
       "      <td>1.376029e+09</td>\n",
       "      <td>1.380762e+09</td>\n",
       "      <td>1.385867e+09</td>\n",
       "      <td>1.388534e+09</td>\n",
       "    </tr>\n",
       "    <tr>\n",
       "      <th>merch_lat</th>\n",
       "      <td>555719.0</td>\n",
       "      <td>3.854280e+01</td>\n",
       "      <td>5.095829e+00</td>\n",
       "      <td>1.902742e+01</td>\n",
       "      <td>3.475530e+01</td>\n",
       "      <td>3.937659e+01</td>\n",
       "      <td>4.195416e+01</td>\n",
       "      <td>6.667930e+01</td>\n",
       "    </tr>\n",
       "    <tr>\n",
       "      <th>merch_long</th>\n",
       "      <td>555719.0</td>\n",
       "      <td>-9.023138e+01</td>\n",
       "      <td>1.373307e+01</td>\n",
       "      <td>-1.666716e+02</td>\n",
       "      <td>-9.690513e+01</td>\n",
       "      <td>-8.744520e+01</td>\n",
       "      <td>-8.026464e+01</td>\n",
       "      <td>-6.695203e+01</td>\n",
       "    </tr>\n",
       "    <tr>\n",
       "      <th>is_fraud</th>\n",
       "      <td>555719.0</td>\n",
       "      <td>3.859864e-03</td>\n",
       "      <td>6.200784e-02</td>\n",
       "      <td>0.000000e+00</td>\n",
       "      <td>0.000000e+00</td>\n",
       "      <td>0.000000e+00</td>\n",
       "      <td>0.000000e+00</td>\n",
       "      <td>1.000000e+00</td>\n",
       "    </tr>\n",
       "  </tbody>\n",
       "</table>\n",
       "</div>"
      ],
      "text/plain": [
       "               count          mean           std           min           25%  \\\n",
       "cc_num      555719.0  4.178387e+17  1.309837e+18  6.041621e+10  1.800429e+14   \n",
       "amt         555719.0  6.939281e+01  1.567459e+02  1.000000e+00  9.630000e+00   \n",
       "zip         555719.0  4.884263e+04  2.685528e+04  1.257000e+03  2.629200e+04   \n",
       "lat         555719.0  3.854325e+01  5.061336e+00  2.002710e+01  3.466890e+01   \n",
       "long        555719.0 -9.023133e+01  1.372178e+01 -1.656723e+02 -9.679800e+01   \n",
       "city_pop    555719.0  8.822189e+04  3.003909e+05  2.300000e+01  7.410000e+02   \n",
       "unix_time   555719.0  1.380679e+09  5.201104e+06  1.371817e+09  1.376029e+09   \n",
       "merch_lat   555719.0  3.854280e+01  5.095829e+00  1.902742e+01  3.475530e+01   \n",
       "merch_long  555719.0 -9.023138e+01  1.373307e+01 -1.666716e+02 -9.690513e+01   \n",
       "is_fraud    555719.0  3.859864e-03  6.200784e-02  0.000000e+00  0.000000e+00   \n",
       "\n",
       "                     50%           75%           max  \n",
       "cc_num      3.521417e+15  4.635331e+15  4.992346e+18  \n",
       "amt         4.729000e+01  8.301000e+01  2.276811e+04  \n",
       "zip         4.817400e+04  7.201100e+04  9.992100e+04  \n",
       "lat         3.937160e+01  4.189480e+01  6.568990e+01  \n",
       "long       -8.747690e+01 -8.017520e+01 -6.795030e+01  \n",
       "city_pop    2.408000e+03  1.968500e+04  2.906700e+06  \n",
       "unix_time   1.380762e+09  1.385867e+09  1.388534e+09  \n",
       "merch_lat   3.937659e+01  4.195416e+01  6.667930e+01  \n",
       "merch_long -8.744520e+01 -8.026464e+01 -6.695203e+01  \n",
       "is_fraud    0.000000e+00  0.000000e+00  1.000000e+00  "
      ]
     },
     "execution_count": 39,
     "metadata": {},
     "output_type": "execute_result"
    }
   ],
   "source": [
    "test_df.describe().T"
   ]
  },
  {
   "cell_type": "code",
   "execution_count": 43,
   "id": "970d8fa7-6b80-437a-9675-9672a9dfa5e9",
   "metadata": {},
   "outputs": [
    {
     "name": "stdout",
     "output_type": "stream",
     "text": [
      "Percentage of missing values in Training dataset\n"
     ]
    },
    {
     "data": {
      "text/plain": [
       "trans_date_trans_time    0\n",
       "cc_num                   0\n",
       "merchant                 0\n",
       "category                 0\n",
       "amt                      0\n",
       "first                    0\n",
       "last                     0\n",
       "gender                   0\n",
       "street                   0\n",
       "city                     0\n",
       "state                    0\n",
       "zip                      0\n",
       "lat                      0\n",
       "long                     0\n",
       "city_pop                 0\n",
       "job                      0\n",
       "dob                      0\n",
       "trans_num                0\n",
       "unix_time                0\n",
       "merch_lat                0\n",
       "merch_long               0\n",
       "is_fraud                 0\n",
       "dtype: int64"
      ]
     },
     "execution_count": 43,
     "metadata": {},
     "output_type": "execute_result"
    }
   ],
   "source": [
    "print(\"Number of of missing values in Training dataset\")\n",
    "np.round((train_df.isna().sum()))\n",
    "\n",
    "# print(\"Percentage of missing values in Training dataset\")\n",
    "# np.round((train_df.isna().sum() / train_df.shape[0])*100, 2)"
   ]
  },
  {
   "cell_type": "code",
   "execution_count": 44,
   "id": "12bf7c4a-c05f-4019-b106-450e6bace7ba",
   "metadata": {},
   "outputs": [
    {
     "name": "stdout",
     "output_type": "stream",
     "text": [
      "Number of missing values in Testing dataset\n"
     ]
    },
    {
     "data": {
      "text/plain": [
       "trans_date_trans_time    0\n",
       "cc_num                   0\n",
       "merchant                 0\n",
       "category                 0\n",
       "amt                      0\n",
       "first                    0\n",
       "last                     0\n",
       "gender                   0\n",
       "street                   0\n",
       "city                     0\n",
       "state                    0\n",
       "zip                      0\n",
       "lat                      0\n",
       "long                     0\n",
       "city_pop                 0\n",
       "job                      0\n",
       "dob                      0\n",
       "trans_num                0\n",
       "unix_time                0\n",
       "merch_lat                0\n",
       "merch_long               0\n",
       "is_fraud                 0\n",
       "dtype: int64"
      ]
     },
     "execution_count": 44,
     "metadata": {},
     "output_type": "execute_result"
    }
   ],
   "source": [
    "print(\"Number of missing values in Testing dataset\")\n",
    "np.round((test_df.isna().sum()))\n",
    "\n",
    "# print(\"Percentage of missing values in Testing dataset\")\n",
    "# np.round((test_df.isna().sum()/test_df.shape[0])*100, 2)"
   ]
  },
  {
   "cell_type": "markdown",
   "id": "ee99ce12-142b-4247-9e5d-cc876c968bec",
   "metadata": {},
   "source": [
    "## There is no missing value in both the datasets."
   ]
  },
  {
   "cell_type": "code",
   "execution_count": 45,
   "id": "e468b8a0-cb77-43ba-93f6-121b4dc100db",
   "metadata": {},
   "outputs": [
    {
     "name": "stdout",
     "output_type": "stream",
     "text": [
      "trans_date_trans_time : 1274791\n",
      "cc_num : 983\n",
      "merchant : 693\n",
      "category : 14\n",
      "amt : 52928\n",
      "first : 352\n",
      "last : 481\n",
      "gender : 2\n",
      "street : 983\n",
      "city : 894\n",
      "state : 51\n",
      "zip : 970\n",
      "lat : 968\n",
      "long : 969\n",
      "city_pop : 879\n",
      "job : 494\n",
      "dob : 968\n",
      "trans_num : 1296675\n",
      "unix_time : 1274823\n",
      "merch_lat : 1247805\n",
      "merch_long : 1275745\n",
      "is_fraud : 2\n"
     ]
    }
   ],
   "source": [
    "for i in train_df.columns:\n",
    "    print(i,\":\", train_df[i].nunique())"
   ]
  },
  {
   "cell_type": "code",
   "execution_count": 46,
   "id": "009f7a4a-3a34-4b45-b0df-507c53cffd3c",
   "metadata": {},
   "outputs": [
    {
     "name": "stdout",
     "output_type": "stream",
     "text": [
      "trans_date_trans_time : 544760\n",
      "cc_num : 924\n",
      "merchant : 693\n",
      "category : 14\n",
      "amt : 37256\n",
      "first : 341\n",
      "last : 471\n",
      "gender : 2\n",
      "street : 924\n",
      "city : 849\n",
      "state : 50\n",
      "zip : 912\n",
      "lat : 910\n",
      "long : 910\n",
      "city_pop : 835\n",
      "job : 478\n",
      "dob : 910\n",
      "trans_num : 555719\n",
      "unix_time : 544760\n",
      "merch_lat : 546490\n",
      "merch_long : 551770\n",
      "is_fraud : 2\n"
     ]
    }
   ],
   "source": [
    "for i in test_df.columns:\n",
    "    print(i,\":\", test_df[i].nunique())"
   ]
  },
  {
   "cell_type": "code",
   "execution_count": 47,
   "id": "880062ea-1476-4c8c-b14f-774d70482c91",
   "metadata": {},
   "outputs": [
    {
     "data": {
      "text/plain": [
       "trans_date_trans_time      0\n",
       "cc_num                     0\n",
       "merchant                   0\n",
       "category                   0\n",
       "amt                      0.0\n",
       "first                      0\n",
       "last                       0\n",
       "gender                     0\n",
       "street                     0\n",
       "city                       0\n",
       "state                      0\n",
       "zip                        0\n",
       "lat                      0.0\n",
       "long                     0.0\n",
       "city_pop                   0\n",
       "job                        0\n",
       "dob                        0\n",
       "trans_num                  0\n",
       "unix_time                  0\n",
       "merch_lat                0.0\n",
       "merch_long               0.0\n",
       "is_fraud                   0\n",
       "dtype: object"
      ]
     },
     "execution_count": 47,
     "metadata": {},
     "output_type": "execute_result"
    }
   ],
   "source": [
    "train_df[train_df.duplicated()].sum()"
   ]
  },
  {
   "cell_type": "code",
   "execution_count": 48,
   "id": "6769325d-d50a-46c8-8b7a-fe3b15a1e547",
   "metadata": {},
   "outputs": [
    {
     "data": {
      "text/plain": [
       "trans_date_trans_time      0\n",
       "cc_num                     0\n",
       "merchant                   0\n",
       "category                   0\n",
       "amt                      0.0\n",
       "first                      0\n",
       "last                       0\n",
       "gender                     0\n",
       "street                     0\n",
       "city                       0\n",
       "state                      0\n",
       "zip                        0\n",
       "lat                      0.0\n",
       "long                     0.0\n",
       "city_pop                   0\n",
       "job                        0\n",
       "dob                        0\n",
       "trans_num                  0\n",
       "unix_time                  0\n",
       "merch_lat                0.0\n",
       "merch_long               0.0\n",
       "is_fraud                   0\n",
       "dtype: object"
      ]
     },
     "execution_count": 48,
     "metadata": {},
     "output_type": "execute_result"
    }
   ],
   "source": [
    "test_df[test_df.duplicated()].sum()"
   ]
  },
  {
   "cell_type": "markdown",
   "id": "b1fd38d3-7840-4f24-b1ae-933656063ce7",
   "metadata": {},
   "source": [
    "## There is no duplicate in both the datasets."
   ]
  },
  {
   "cell_type": "code",
   "execution_count": 49,
   "id": "2876d577-5d15-4c46-b0b1-e007d11e762c",
   "metadata": {},
   "outputs": [
    {
     "name": "stdout",
     "output_type": "stream",
     "text": [
      "Chi-Square Statistic: 1266824.7984799584\n",
      "P-Value: 0.0\n",
      "The response variable 'is_fraud' is imbalanced (reject H₀).\n"
     ]
    }
   ],
   "source": [
    "from scipy.stats import chisquare\n",
    "\n",
    "# Count the observed frequencies of \"is_fraud\"\n",
    "is_fraud_counts = train_df['is_fraud'].value_counts()\n",
    "\n",
    "# Observed frequencies\n",
    "observed = is_fraud_counts.values\n",
    "\n",
    "# Expected frequencies (assuming balance)\n",
    "expected = [len(train_df) / len(is_fraud_counts)] * len(is_fraud_counts)\n",
    "\n",
    "# Perform Chi-Square Goodness-of-Fit Test\n",
    "chi2_stat, p_value = chisquare(f_obs=observed, f_exp=expected)\n",
    "\n",
    "# Print results\n",
    "print(f\"Chi-Square Statistic: {chi2_stat}\")\n",
    "print(f\"P-Value: {p_value}\")\n",
    "\n",
    "# Interpret results\n",
    "if p_value < 0.05:\n",
    "    print(\"The response variable 'is_fraud' is imbalanced (reject H₀).\")\n",
    "else:\n",
    "    print(\"The response variable 'is_fraud' is balanced (fail to reject H₀).\")"
   ]
  },
  {
   "cell_type": "markdown",
   "id": "262ff047-c07c-4cc0-ba70-960e5e78204e",
   "metadata": {},
   "source": [
    "## The response variable 'is_fraud' is imbalanced which is as expected for a fraud detection dataset."
   ]
  },
  {
   "cell_type": "markdown",
   "id": "55dc43cc-eea7-42f2-8cdc-94e76c0665c8",
   "metadata": {},
   "source": [
    "# Feature Engineering"
   ]
  },
  {
   "cell_type": "code",
   "execution_count": 6,
   "id": "eb59d23f-0081-4e58-9980-a35932e2226d",
   "metadata": {
    "id": "eb59d23f-0081-4e58-9980-a35932e2226d"
   },
   "outputs": [],
   "source": [
    "def preprocess(df):\n",
    "    df = df.copy()\n",
    "\n",
    "    # Convert dates\n",
    "    df['trans_date_trans_time'] = pd.to_datetime(df['trans_date_trans_time'])\n",
    "    df['dob'] = pd.to_datetime(df['dob'])\n",
    "\n",
    "    # Age feature\n",
    "    df['age'] = (df['trans_date_trans_time'] - df['dob']).dt.days // 365\n",
    "\n",
    "    # Time-based features\n",
    "    df['hour'] = df['trans_date_trans_time'].dt.hour\n",
    "    df['day'] = df['trans_date_trans_time'].dt.day\n",
    "    df['month'] = df['trans_date_trans_time'].dt.month\n",
    "    df['weekday'] = df['trans_date_trans_time'].dt.weekday\n",
    "\n",
    "    # Drop irrelevant/high-cardinality columns\n",
    "    df.drop(columns=['trans_num', 'first', 'last', 'street', 'dob', 'trans_date_trans_time'], inplace=True)\n",
    "\n",
    "    # Encode categorical columns\n",
    "    cat_cols = df.select_dtypes(include='object').columns\n",
    "    for col in cat_cols:\n",
    "        df[col] = LabelEncoder().fit_transform(df[col].astype(str))\n",
    "\n",
    "    return df\n",
    "\n",
    "train_clean = preprocess(train_df)\n",
    "test_clean = preprocess(test_df)"
   ]
  },
  {
   "cell_type": "code",
   "execution_count": 7,
   "id": "Q_vGI4ak1DxN",
   "metadata": {
    "colab": {
     "base_uri": "https://localhost:8080/",
     "height": 255
    },
    "id": "Q_vGI4ak1DxN",
    "outputId": "5973ad45-56eb-48f0-d095-6c90f0753c2d"
   },
   "outputs": [
    {
     "data": {
      "text/html": [
       "<div>\n",
       "<style scoped>\n",
       "    .dataframe tbody tr th:only-of-type {\n",
       "        vertical-align: middle;\n",
       "    }\n",
       "\n",
       "    .dataframe tbody tr th {\n",
       "        vertical-align: top;\n",
       "    }\n",
       "\n",
       "    .dataframe thead th {\n",
       "        text-align: right;\n",
       "    }\n",
       "</style>\n",
       "<table border=\"1\" class=\"dataframe\">\n",
       "  <thead>\n",
       "    <tr style=\"text-align: right;\">\n",
       "      <th></th>\n",
       "      <th>cc_num</th>\n",
       "      <th>merchant</th>\n",
       "      <th>category</th>\n",
       "      <th>amt</th>\n",
       "      <th>gender</th>\n",
       "      <th>city</th>\n",
       "      <th>state</th>\n",
       "      <th>zip</th>\n",
       "      <th>lat</th>\n",
       "      <th>long</th>\n",
       "      <th>...</th>\n",
       "      <th>job</th>\n",
       "      <th>unix_time</th>\n",
       "      <th>merch_lat</th>\n",
       "      <th>merch_long</th>\n",
       "      <th>is_fraud</th>\n",
       "      <th>age</th>\n",
       "      <th>hour</th>\n",
       "      <th>day</th>\n",
       "      <th>month</th>\n",
       "      <th>weekday</th>\n",
       "    </tr>\n",
       "  </thead>\n",
       "  <tbody>\n",
       "    <tr>\n",
       "      <th>0</th>\n",
       "      <td>2703186189652095</td>\n",
       "      <td>514</td>\n",
       "      <td>8</td>\n",
       "      <td>4.97</td>\n",
       "      <td>0</td>\n",
       "      <td>526</td>\n",
       "      <td>27</td>\n",
       "      <td>28654</td>\n",
       "      <td>36.0788</td>\n",
       "      <td>-81.1781</td>\n",
       "      <td>...</td>\n",
       "      <td>370</td>\n",
       "      <td>1325376018</td>\n",
       "      <td>36.011293</td>\n",
       "      <td>-82.048315</td>\n",
       "      <td>0</td>\n",
       "      <td>30</td>\n",
       "      <td>0</td>\n",
       "      <td>1</td>\n",
       "      <td>1</td>\n",
       "      <td>1</td>\n",
       "    </tr>\n",
       "    <tr>\n",
       "      <th>1</th>\n",
       "      <td>630423337322</td>\n",
       "      <td>241</td>\n",
       "      <td>4</td>\n",
       "      <td>107.23</td>\n",
       "      <td>0</td>\n",
       "      <td>612</td>\n",
       "      <td>47</td>\n",
       "      <td>99160</td>\n",
       "      <td>48.8878</td>\n",
       "      <td>-118.2105</td>\n",
       "      <td>...</td>\n",
       "      <td>428</td>\n",
       "      <td>1325376044</td>\n",
       "      <td>49.159047</td>\n",
       "      <td>-118.186462</td>\n",
       "      <td>0</td>\n",
       "      <td>40</td>\n",
       "      <td>0</td>\n",
       "      <td>1</td>\n",
       "      <td>1</td>\n",
       "      <td>1</td>\n",
       "    </tr>\n",
       "    <tr>\n",
       "      <th>2</th>\n",
       "      <td>38859492057661</td>\n",
       "      <td>390</td>\n",
       "      <td>0</td>\n",
       "      <td>220.11</td>\n",
       "      <td>1</td>\n",
       "      <td>468</td>\n",
       "      <td>13</td>\n",
       "      <td>83252</td>\n",
       "      <td>42.1808</td>\n",
       "      <td>-112.2620</td>\n",
       "      <td>...</td>\n",
       "      <td>307</td>\n",
       "      <td>1325376051</td>\n",
       "      <td>43.150704</td>\n",
       "      <td>-112.154481</td>\n",
       "      <td>0</td>\n",
       "      <td>56</td>\n",
       "      <td>0</td>\n",
       "      <td>1</td>\n",
       "      <td>1</td>\n",
       "      <td>1</td>\n",
       "    </tr>\n",
       "    <tr>\n",
       "      <th>3</th>\n",
       "      <td>3534093764340240</td>\n",
       "      <td>360</td>\n",
       "      <td>2</td>\n",
       "      <td>45.00</td>\n",
       "      <td>1</td>\n",
       "      <td>84</td>\n",
       "      <td>26</td>\n",
       "      <td>59632</td>\n",
       "      <td>46.2306</td>\n",
       "      <td>-112.1138</td>\n",
       "      <td>...</td>\n",
       "      <td>328</td>\n",
       "      <td>1325376076</td>\n",
       "      <td>47.034331</td>\n",
       "      <td>-112.561071</td>\n",
       "      <td>0</td>\n",
       "      <td>52</td>\n",
       "      <td>0</td>\n",
       "      <td>1</td>\n",
       "      <td>1</td>\n",
       "      <td>1</td>\n",
       "    </tr>\n",
       "    <tr>\n",
       "      <th>4</th>\n",
       "      <td>375534208663984</td>\n",
       "      <td>297</td>\n",
       "      <td>9</td>\n",
       "      <td>41.96</td>\n",
       "      <td>1</td>\n",
       "      <td>216</td>\n",
       "      <td>45</td>\n",
       "      <td>24433</td>\n",
       "      <td>38.4207</td>\n",
       "      <td>-79.4629</td>\n",
       "      <td>...</td>\n",
       "      <td>116</td>\n",
       "      <td>1325376186</td>\n",
       "      <td>38.674999</td>\n",
       "      <td>-78.632459</td>\n",
       "      <td>0</td>\n",
       "      <td>32</td>\n",
       "      <td>0</td>\n",
       "      <td>1</td>\n",
       "      <td>1</td>\n",
       "      <td>1</td>\n",
       "    </tr>\n",
       "  </tbody>\n",
       "</table>\n",
       "<p>5 rows × 21 columns</p>\n",
       "</div>"
      ],
      "text/plain": [
       "             cc_num  merchant  category     amt  gender  city  state    zip  \\\n",
       "0  2703186189652095       514         8    4.97       0   526     27  28654   \n",
       "1      630423337322       241         4  107.23       0   612     47  99160   \n",
       "2    38859492057661       390         0  220.11       1   468     13  83252   \n",
       "3  3534093764340240       360         2   45.00       1    84     26  59632   \n",
       "4   375534208663984       297         9   41.96       1   216     45  24433   \n",
       "\n",
       "       lat      long  ...  job   unix_time  merch_lat  merch_long  is_fraud  \\\n",
       "0  36.0788  -81.1781  ...  370  1325376018  36.011293  -82.048315         0   \n",
       "1  48.8878 -118.2105  ...  428  1325376044  49.159047 -118.186462         0   \n",
       "2  42.1808 -112.2620  ...  307  1325376051  43.150704 -112.154481         0   \n",
       "3  46.2306 -112.1138  ...  328  1325376076  47.034331 -112.561071         0   \n",
       "4  38.4207  -79.4629  ...  116  1325376186  38.674999  -78.632459         0   \n",
       "\n",
       "   age  hour  day  month  weekday  \n",
       "0   30     0    1      1        1  \n",
       "1   40     0    1      1        1  \n",
       "2   56     0    1      1        1  \n",
       "3   52     0    1      1        1  \n",
       "4   32     0    1      1        1  \n",
       "\n",
       "[5 rows x 21 columns]"
      ]
     },
     "execution_count": 7,
     "metadata": {},
     "output_type": "execute_result"
    }
   ],
   "source": [
    "train_clean.head()"
   ]
  },
  {
   "cell_type": "code",
   "execution_count": 8,
   "id": "Voam-wnO1Mu1",
   "metadata": {
    "colab": {
     "base_uri": "https://localhost:8080/",
     "height": 255
    },
    "id": "Voam-wnO1Mu1",
    "outputId": "cf2c7a86-f748-4a31-fe9d-0916198f6471"
   },
   "outputs": [
    {
     "data": {
      "text/html": [
       "<div>\n",
       "<style scoped>\n",
       "    .dataframe tbody tr th:only-of-type {\n",
       "        vertical-align: middle;\n",
       "    }\n",
       "\n",
       "    .dataframe tbody tr th {\n",
       "        vertical-align: top;\n",
       "    }\n",
       "\n",
       "    .dataframe thead th {\n",
       "        text-align: right;\n",
       "    }\n",
       "</style>\n",
       "<table border=\"1\" class=\"dataframe\">\n",
       "  <thead>\n",
       "    <tr style=\"text-align: right;\">\n",
       "      <th></th>\n",
       "      <th>cc_num</th>\n",
       "      <th>merchant</th>\n",
       "      <th>category</th>\n",
       "      <th>amt</th>\n",
       "      <th>gender</th>\n",
       "      <th>city</th>\n",
       "      <th>state</th>\n",
       "      <th>zip</th>\n",
       "      <th>lat</th>\n",
       "      <th>long</th>\n",
       "      <th>...</th>\n",
       "      <th>job</th>\n",
       "      <th>unix_time</th>\n",
       "      <th>merch_lat</th>\n",
       "      <th>merch_long</th>\n",
       "      <th>is_fraud</th>\n",
       "      <th>age</th>\n",
       "      <th>hour</th>\n",
       "      <th>day</th>\n",
       "      <th>month</th>\n",
       "      <th>weekday</th>\n",
       "    </tr>\n",
       "  </thead>\n",
       "  <tbody>\n",
       "    <tr>\n",
       "      <th>0</th>\n",
       "      <td>2291163933867244</td>\n",
       "      <td>319</td>\n",
       "      <td>10</td>\n",
       "      <td>2.86</td>\n",
       "      <td>1</td>\n",
       "      <td>157</td>\n",
       "      <td>39</td>\n",
       "      <td>29209</td>\n",
       "      <td>33.9659</td>\n",
       "      <td>-80.9355</td>\n",
       "      <td>...</td>\n",
       "      <td>275</td>\n",
       "      <td>1371816865</td>\n",
       "      <td>33.986391</td>\n",
       "      <td>-81.200714</td>\n",
       "      <td>0</td>\n",
       "      <td>52</td>\n",
       "      <td>12</td>\n",
       "      <td>21</td>\n",
       "      <td>6</td>\n",
       "      <td>6</td>\n",
       "    </tr>\n",
       "    <tr>\n",
       "      <th>1</th>\n",
       "      <td>3573030041201292</td>\n",
       "      <td>591</td>\n",
       "      <td>10</td>\n",
       "      <td>29.84</td>\n",
       "      <td>0</td>\n",
       "      <td>16</td>\n",
       "      <td>43</td>\n",
       "      <td>84002</td>\n",
       "      <td>40.3207</td>\n",
       "      <td>-110.4360</td>\n",
       "      <td>...</td>\n",
       "      <td>392</td>\n",
       "      <td>1371816873</td>\n",
       "      <td>39.450498</td>\n",
       "      <td>-109.960431</td>\n",
       "      <td>0</td>\n",
       "      <td>30</td>\n",
       "      <td>12</td>\n",
       "      <td>21</td>\n",
       "      <td>6</td>\n",
       "      <td>6</td>\n",
       "    </tr>\n",
       "    <tr>\n",
       "      <th>2</th>\n",
       "      <td>3598215285024754</td>\n",
       "      <td>611</td>\n",
       "      <td>5</td>\n",
       "      <td>41.28</td>\n",
       "      <td>0</td>\n",
       "      <td>61</td>\n",
       "      <td>33</td>\n",
       "      <td>11710</td>\n",
       "      <td>40.6729</td>\n",
       "      <td>-73.5365</td>\n",
       "      <td>...</td>\n",
       "      <td>259</td>\n",
       "      <td>1371816893</td>\n",
       "      <td>40.495810</td>\n",
       "      <td>-74.196111</td>\n",
       "      <td>0</td>\n",
       "      <td>49</td>\n",
       "      <td>12</td>\n",
       "      <td>21</td>\n",
       "      <td>6</td>\n",
       "      <td>6</td>\n",
       "    </tr>\n",
       "    <tr>\n",
       "      <th>3</th>\n",
       "      <td>3591919803438423</td>\n",
       "      <td>222</td>\n",
       "      <td>9</td>\n",
       "      <td>60.05</td>\n",
       "      <td>1</td>\n",
       "      <td>764</td>\n",
       "      <td>8</td>\n",
       "      <td>32780</td>\n",
       "      <td>28.5697</td>\n",
       "      <td>-80.8191</td>\n",
       "      <td>...</td>\n",
       "      <td>407</td>\n",
       "      <td>1371816915</td>\n",
       "      <td>28.812398</td>\n",
       "      <td>-80.883061</td>\n",
       "      <td>0</td>\n",
       "      <td>32</td>\n",
       "      <td>12</td>\n",
       "      <td>21</td>\n",
       "      <td>6</td>\n",
       "      <td>6</td>\n",
       "    </tr>\n",
       "    <tr>\n",
       "      <th>4</th>\n",
       "      <td>3526826139003047</td>\n",
       "      <td>292</td>\n",
       "      <td>13</td>\n",
       "      <td>3.19</td>\n",
       "      <td>1</td>\n",
       "      <td>247</td>\n",
       "      <td>21</td>\n",
       "      <td>49632</td>\n",
       "      <td>44.2529</td>\n",
       "      <td>-85.0170</td>\n",
       "      <td>...</td>\n",
       "      <td>196</td>\n",
       "      <td>1371816917</td>\n",
       "      <td>44.959148</td>\n",
       "      <td>-85.884734</td>\n",
       "      <td>0</td>\n",
       "      <td>65</td>\n",
       "      <td>12</td>\n",
       "      <td>21</td>\n",
       "      <td>6</td>\n",
       "      <td>6</td>\n",
       "    </tr>\n",
       "  </tbody>\n",
       "</table>\n",
       "<p>5 rows × 21 columns</p>\n",
       "</div>"
      ],
      "text/plain": [
       "             cc_num  merchant  category    amt  gender  city  state    zip  \\\n",
       "0  2291163933867244       319        10   2.86       1   157     39  29209   \n",
       "1  3573030041201292       591        10  29.84       0    16     43  84002   \n",
       "2  3598215285024754       611         5  41.28       0    61     33  11710   \n",
       "3  3591919803438423       222         9  60.05       1   764      8  32780   \n",
       "4  3526826139003047       292        13   3.19       1   247     21  49632   \n",
       "\n",
       "       lat      long  ...  job   unix_time  merch_lat  merch_long  is_fraud  \\\n",
       "0  33.9659  -80.9355  ...  275  1371816865  33.986391  -81.200714         0   \n",
       "1  40.3207 -110.4360  ...  392  1371816873  39.450498 -109.960431         0   \n",
       "2  40.6729  -73.5365  ...  259  1371816893  40.495810  -74.196111         0   \n",
       "3  28.5697  -80.8191  ...  407  1371816915  28.812398  -80.883061         0   \n",
       "4  44.2529  -85.0170  ...  196  1371816917  44.959148  -85.884734         0   \n",
       "\n",
       "   age  hour  day  month  weekday  \n",
       "0   52    12   21      6        6  \n",
       "1   30    12   21      6        6  \n",
       "2   49    12   21      6        6  \n",
       "3   32    12   21      6        6  \n",
       "4   65    12   21      6        6  \n",
       "\n",
       "[5 rows x 21 columns]"
      ]
     },
     "execution_count": 8,
     "metadata": {},
     "output_type": "execute_result"
    }
   ],
   "source": [
    "test_clean.head()"
   ]
  },
  {
   "cell_type": "code",
   "execution_count": 9,
   "id": "5pSdiyH31LC7",
   "metadata": {
    "id": "5pSdiyH31LC7"
   },
   "outputs": [],
   "source": [
    "# Save original labels for evaluation\n",
    "y_train_true = train_clean['is_fraud']\n",
    "y_test_true = test_clean['is_fraud']\n",
    "\n",
    "# Drop target from feature set\n",
    "X_train = train_clean.drop(columns=['is_fraud'])\n",
    "X_test = test_clean.drop(columns=['is_fraud'])"
   ]
  },
  {
   "cell_type": "code",
   "execution_count": 10,
   "id": "8e56b8fb-8733-452e-bbee-d18f0b4fdf03",
   "metadata": {
    "id": "8e56b8fb-8733-452e-bbee-d18f0b4fdf03"
   },
   "outputs": [],
   "source": [
    "scaler = StandardScaler()\n",
    "X_train_scaled = scaler.fit_transform(X_train)\n",
    "X_test_scaled = scaler.transform(X_test)"
   ]
  },
  {
   "cell_type": "markdown",
   "id": "gUXRmLGExQXA",
   "metadata": {
    "id": "gUXRmLGExQXA"
   },
   "source": [
    "## Choice of Algorithms:\n",
    "\n",
    "1. Isolation Forest (IF) finds easy-to-isolate global anomalies.\n",
    "\n",
    "2. Local Outlier Factor (LOF) catches subtle local deviations.\n",
    "\n",
    "3. Autoencoder models complex data structure and catches nuanced anomalies.\n"
   ]
  },
  {
   "cell_type": "code",
   "execution_count": 11,
   "id": "22a7d114-0229-4d8f-8eb4-015d3b452e25",
   "metadata": {
    "id": "22a7d114-0229-4d8f-8eb4-015d3b452e25"
   },
   "outputs": [],
   "source": [
    "iso_forest = IsolationForest(n_estimators=100, contamination=0.005, random_state=42)\n",
    "train_preds_iso = iso_forest.fit_predict(X_train_scaled)\n",
    "test_preds_iso = iso_forest.predict(X_test_scaled)\n",
    "\n",
    "# Map to 0 and 1\n",
    "train_preds_iso = np.where(train_preds_iso == -1, 1, 0)\n",
    "test_preds_iso = np.where(test_preds_iso == -1, 1, 0)"
   ]
  },
  {
   "cell_type": "markdown",
   "id": "QiEUL8fzzZza",
   "metadata": {
    "id": "QiEUL8fzzZza"
   },
   "source": [
    "## Isolation Forest Reason for flagging:\n",
    "\n",
    "- Isolation Forest isolates outliers quickly using random trees.\n",
    "- If a sample has rare combinations of features (e.g., high amount + night time + unusual merchant type), it’s isolated faster ⇒ high anomaly score."
   ]
  },
  {
   "cell_type": "markdown",
   "id": "f163d68f-0faa-4ba5-8659-8f7db986ced8",
   "metadata": {},
   "source": [
    "## Hyperparameter tuning is attempted for better results but could not be completed due to limited resourses."
   ]
  },
  {
   "cell_type": "code",
   "execution_count": 12,
   "id": "4IQlZztEeaw6",
   "metadata": {
    "id": "4IQlZztEeaw6"
   },
   "outputs": [],
   "source": [
    "# from sklearn.model_selection import GridSearchCV\n",
    "\n",
    "# # Define the parameter grid for hyperparameter tuning\n",
    "# param_grid = {\n",
    "#     'n_estimators': [50, 100, 150],\n",
    "#     'contamination': [0.001, 0.005, 0.01],\n",
    "#     'max_samples': [0.5, 1.0]\n",
    "# }\n",
    "\n",
    "# # Create the IsolationForest model\n",
    "# iso_forest = IsolationForest(random_state=42)\n",
    "\n",
    "# # Perform grid search with cross-validation\n",
    "# grid_search = GridSearchCV(iso_forest, param_grid, cv=5, scoring='roc_auc')  # Use ROC AUC as the scoring metric\n",
    "# grid_search.fit(X_train_scaled, y_train_true)\n",
    "\n",
    "# # Get the best model and its hyperparameters\n",
    "# best_iso_forest = grid_search.best_estimator_\n",
    "# print(\"Best hyperparameters:\", grid_search.best_params_)\n",
    "\n",
    "# # Make predictions using the best model\n",
    "# train_preds_iso = best_iso_forest.fit_predict(X_train_scaled)\n",
    "# test_preds_iso = best_iso_forest.predict(X_test_scaled)\n",
    "\n",
    "# # Map to 0 and 1\n",
    "# train_preds_iso = np.where(train_preds_iso == -1, 1, 0)\n",
    "# test_preds_iso = np.where(test_preds_iso == -1, 1, 0)"
   ]
  },
  {
   "cell_type": "code",
   "execution_count": 13,
   "id": "3U3A3Uvid6C7",
   "metadata": {
    "id": "3U3A3Uvid6C7"
   },
   "outputs": [],
   "source": [
    "# # Define the parameter grid for LOF hyperparameter tuning\n",
    "# param_grid_lof = {\n",
    "#     'n_neighbors': [5, 10, 15, 20, 25],\n",
    "#     'contamination': [0.001, 0.005, 0.01, 0.05]\n",
    "# }\n",
    "\n",
    "# # Create the LOF model\n",
    "# lof = LocalOutlierFactor(novelty=True)\n",
    "\n",
    "# # Perform grid search with cross-validation for LOF\n",
    "# grid_search_lof = GridSearchCV(lof, param_grid_lof, cv=5, scoring='roc_auc')\n",
    "# grid_search_lof.fit(X_train_scaled, y_train_true)\n",
    "\n",
    "# # Get the best LOF model and its hyperparameters\n",
    "# best_lof = grid_search_lof.best_estimator_\n",
    "# print(\"Best LOF hyperparameters:\", grid_search_lof.best_params_)\n",
    "\n",
    "# # Make predictions using the best LOF model\n",
    "# lof_test = best_lof\n",
    "# lof_test.fit(X_train_scaled)\n",
    "# train_preds_lof = best_lof.fit_predict(X_train_scaled)\n",
    "# test_preds_lof = lof_test.predict(X_test_scaled)\n",
    "\n",
    "# # Map to 0 and 1\n",
    "# train_preds_lof = np.where(train_preds_lof == -1, 1, 0)\n",
    "# test_preds_lof = np.where(test_preds_lof == -1, 1, 0)"
   ]
  },
  {
   "cell_type": "code",
   "execution_count": 14,
   "id": "76a91d9c-c898-40e7-a080-369e56852255",
   "metadata": {
    "id": "76a91d9c-c898-40e7-a080-369e56852255"
   },
   "outputs": [],
   "source": [
    "lof = LocalOutlierFactor(n_neighbors=20, contamination=0.005)\n",
    "train_preds_lof = lof.fit_predict(X_train_scaled)\n",
    "\n",
    "# LOF has no transform, so test separately\n",
    "lof_test = LocalOutlierFactor(n_neighbors=20, contamination=0.005, novelty=True)\n",
    "lof_test.fit(X_train_scaled)\n",
    "test_preds_lof = lof_test.predict(X_test_scaled)\n",
    "\n",
    "# Map to 0 and 1\n",
    "train_preds_lof = np.where(train_preds_lof == -1, 1, 0)\n",
    "test_preds_lof = np.where(test_preds_lof == -1, 1, 0)"
   ]
  },
  {
   "attachments": {},
   "cell_type": "markdown",
   "id": "hYQmxcQ6zOxY",
   "metadata": {
    "id": "hYQmxcQ6zOxY"
   },
   "source": [
    "## Local Outlier Factor (LOF) Reason for flagging:\n",
    "\n",
    "- LOF compares local density.\n",
    "- If a transaction lies in low-density region (far from similar points), it’s likely an anomaly."
   ]
  },
  {
   "cell_type": "code",
   "execution_count": 15,
   "id": "42875420-14f9-4873-8ac5-677ff6502e7e",
   "metadata": {
    "colab": {
     "base_uri": "https://localhost:8080/"
    },
    "id": "42875420-14f9-4873-8ac5-677ff6502e7e",
    "outputId": "75fa172e-5002-4f4b-856a-af2e89369527"
   },
   "outputs": [
    {
     "name": "stdout",
     "output_type": "stream",
     "text": [
      "\n",
      "--- Isolation Forest ---\n",
      "Confusion Matrix:\n",
      " [[549880   3694]\n",
      " [  2033    112]]\n",
      "Classification Report:\n",
      "               precision    recall  f1-score   support\n",
      "\n",
      "           0       1.00      0.99      0.99    553574\n",
      "           1       0.03      0.05      0.04      2145\n",
      "\n",
      "    accuracy                           0.99    555719\n",
      "   macro avg       0.51      0.52      0.52    555719\n",
      "weighted avg       0.99      0.99      0.99    555719\n",
      "\n",
      "ROC AUC Score: 0.5227707254767775\n",
      "\n",
      "--- Local Outlier Factor ---\n",
      "Confusion Matrix:\n",
      " [[236806 316768]\n",
      " [  1099   1046]]\n",
      "Classification Report:\n",
      "               precision    recall  f1-score   support\n",
      "\n",
      "           0       1.00      0.43      0.60    553574\n",
      "           1       0.00      0.49      0.01      2145\n",
      "\n",
      "    accuracy                           0.43    555719\n",
      "   macro avg       0.50      0.46      0.30    555719\n",
      "weighted avg       0.99      0.43      0.60    555719\n",
      "\n",
      "ROC AUC Score: 0.4577111405997878\n"
     ]
    }
   ],
   "source": [
    "def evaluate(y_true, y_pred, model_name):\n",
    "    print(f'\\n--- {model_name} ---')\n",
    "    print(\"Confusion Matrix:\\n\", confusion_matrix(y_true, y_pred))\n",
    "    print(\"Classification Report:\\n\", classification_report(y_true, y_pred))\n",
    "    print(\"ROC AUC Score:\", roc_auc_score(y_true, y_pred))\n",
    "\n",
    "evaluate(y_test_true, test_preds_iso, \"Isolation Forest\")\n",
    "evaluate(y_test_true, test_preds_lof, \"Local Outlier Factor\")"
   ]
  },
  {
   "cell_type": "markdown",
   "id": "pjli88HcyI1Z",
   "metadata": {
    "id": "pjli88HcyI1Z"
   },
   "source": [
    "#### ---------------------------------------------------------------------------------------------------------\n",
    "## Choice of Metric: ROC-AUC\n",
    "#### ---------------------------------------------------------------------------------------------------------\n",
    "\n",
    "### Class Imbalance Handling:\n",
    "Anomalies are usually rare (e.g., less than 1% of the data). Metrics like accuracy can be misleading (e.g., 99% accuracy by predicting all normal).\n",
    "ROC-AUC evaluates the model across all thresholds, balancing:\n",
    "True Positive Rate (Recall/Sensitivity) — how well anomalies are detected.\n",
    "False Positive Rate — how often normal points are misclassified as anomalies.\n",
    "It doesn't get skewed by class imbalance."
   ]
  },
  {
   "cell_type": "markdown",
   "id": "TV4FJh9A0T1a",
   "metadata": {
    "id": "TV4FJh9A0T1a"
   },
   "source": [
    "#### ---------------------------------------------------------------------------------------------------------\n",
    "## Model Behavior Through FP & FN Analysis\n",
    "#### ---------------------------------------------------------------------------------------------------------\n",
    "\n",
    "\n",
    "1. False Positives (FPs)\n",
    "Typical causes:\n",
    "\n",
    "Rare but legitimate behavior (e.g., user travels abroad, spends more than usual).\n",
    "\n",
    "Customers with non-standard patterns (e.g., night-shift workers).\n",
    "\n",
    "Small clusters of new behavior not present in training data.\n",
    "\n",
    "Model behavior insight:\n",
    "\n",
    "Models like Isolation Forest and LOF may overreact to legitimate rare behavior.\n",
    "\n",
    "Autoencoders may flag novel but valid transactions as anomalies due to poor generalization on unseen-but-valid patterns.\n",
    "\n",
    "What this reveals:\n",
    "\n",
    "Models are sensitive to novelty, but not all novelty is fraud.\n",
    "\n",
    "Indicates need for better representation of normal behavior in training.\n",
    "\n",
    "2. False Negatives (FNs)\n",
    "Typical causes:\n",
    "\n",
    "Fraud that mimics normal transaction patterns.\n",
    "\n",
    "Small, clever manipulations (e.g., same location, slightly different amount).\n",
    "\n",
    "Lack of labeled fraud examples for training.\n",
    "\n",
    "Model behavior insight:\n",
    "\n",
    "Anomaly detection models struggle when fraud is similar to normal behavior.\n",
    "\n",
    "Autoencoders may reconstruct close enough to normal → low reconstruction error.\n",
    "\n",
    "IF and LOF may not find these cases as \"dense\" regions include some fraud-like patterns.\n",
    "\n",
    "What this reveals:\n",
    "\n",
    "Models are blind to subtle fraud.\n",
    "\n",
    "Indicates need for feature engineering or semi-supervised methods."
   ]
  },
  {
   "cell_type": "markdown",
   "id": "27241b1d-8862-4aa4-afae-9bb69d54eb0a",
   "metadata": {
    "id": "27241b1d-8862-4aa4-afae-9bb69d54eb0a"
   },
   "source": [
    "## Interpretation using SHAP"
   ]
  },
  {
   "cell_type": "code",
   "execution_count": 50,
   "id": "83ed710c-cabb-458e-8992-6f3a15a4546b",
   "metadata": {
    "collapsed": true,
    "jupyter": {
     "outputs_hidden": true
    },
    "scrolled": true
   },
   "outputs": [
    {
     "name": "stderr",
     "output_type": "stream",
     "text": [
      "100%|===================| 555690/555719 [75:14<00:00]        "
     ]
    },
    {
     "name": "stdout",
     "output_type": "stream",
     "text": [
      "\n",
      "Explaining transaction index: 864\n"
     ]
    },
    {
     "data": {
      "image/png": "[encoded data removed]",
      "text/plain": [
       "<Figure size 800x650 with 3 Axes>"
      ]
     },
     "metadata": {},
     "output_type": "display_data"
    },
    {
     "name": "stdout",
     "output_type": "stream",
     "text": [
      "\n",
      "Explaining transaction index: 1245\n"
     ]
    },
    {
     "data": {
      "image/png": "[encoded data removed]",
      "text/plain": [
       "<Figure size 800x650 with 3 Axes>"
      ]
     },
     "metadata": {},
     "output_type": "display_data"
    },
    {
     "name": "stdout",
     "output_type": "stream",
     "text": [
      "\n",
      "Explaining transaction index: 1426\n"
     ]
    },
    {
     "data": {
      "image/png": "[encoded data removed]",
      "text/plain": [
       "<Figure size 800x650 with 3 Axes>"
      ]
     },
     "metadata": {},
     "output_type": "display_data"
    },
    {
     "name": "stdout",
     "output_type": "stream",
     "text": [
      "\n",
      "Explaining transaction index: 1494\n"
     ]
    },
    {
     "data": {
      "image/png": "[encoded data removed]",
      "text/plain": [
       "<Figure size 800x650 with 3 Axes>"
      ]
     },
     "metadata": {},
     "output_type": "display_data"
    },
    {
     "name": "stdout",
     "output_type": "stream",
     "text": [
      "\n",
      "Explaining transaction index: 1553\n"
     ]
    },
    {
     "data": {
      "image/png": "[encoded data removed]",
      "text/plain": [
       "<Figure size 800x650 with 3 Axes>"
      ]
     },
     "metadata": {},
     "output_type": "display_data"
    }
   ],
   "source": [
    "import shap\n",
    "\n",
    "# Assume X_train and X_test are original DataFrames before scaling\n",
    "feature_names = X_train.columns\n",
    "\n",
    "# Reconstruct scaled DataFrames with original column names\n",
    "X_train_scaled_df = pd.DataFrame(X_train_scaled, columns=feature_names)\n",
    "X_test_scaled_df = pd.DataFrame(X_test_scaled, columns=feature_names)\n",
    "\n",
    "# SHAP Explainer for Isolation Forest\n",
    "explainer = shap.Explainer(iso_forest, X_train_scaled_df)\n",
    "shap_values = explainer(X_test_scaled_df)\n",
    "\n",
    "# Pick 5 fraud predictions\n",
    "fraud_indices = np.where(test_preds_iso == 1)[0][:5]\n",
    "\n",
    "# Explain those transactions using SHAP waterfall plots\n",
    "for idx in fraud_indices:\n",
    "    print(f\"\\nExplaining transaction index: {idx}\")\n",
    "    shap.plots.waterfall(shap_values[idx])"
   ]
  },
  {
   "cell_type": "markdown",
   "id": "9ce9964b-76be-46d1-b0ee-59863ed52bb5",
   "metadata": {},
   "source": [
    "#### -----------------------------------------------------------------------------------------------------------------------------------------\n",
    "## Interpretation of the first fraud detecton by the Isolation Forest model, using SHAP\n",
    "#### -----------------------------------------------------------------------------------------------------------------------------------------\n",
    "\n",
    "For the first fraud detection using Isolation Forest i.e. index 864:\n",
    "\n",
    "- The prediction value dropped from 10.762 to 7.443 due to several strong negative SHAP contributions, indicating anomaly.\n",
    "\n",
    "- Major contributors toward fraud flagging (blue bars):\n",
    "\n",
    "cc_num = 3.305: SHAP value of −1.07\n",
    "\n",
    "merch_long = −4.786: SHAP value of −0.85\n",
    "\n",
    "merch_lat = −3.484: SHAP value of −0.5\n",
    "\n",
    "long = −4.735 and lat = −3.647: Together contributed another ~−0.92\n",
    "\n",
    "- These suggest that this transaction occurred at unusual merchant geolocations, or that the credit card number pattern was unusual based on what the model saw in normal data.\n",
    "\n",
    "- What made it look normal (pink bars)?\n",
    "month = −0.042 and zip = 1.784 had positive SHAP values of +0.45 and +0.11.\n",
    "It means these made the transaction look a bit more normal or less fraudulent, but their influence was small compared to the negative contributors."
   ]
  },
  {
   "cell_type": "markdown",
   "id": "1c4e99d6-8096-4f78-8f7a-caa87f77cee3",
   "metadata": {
    "id": "1c4e99d6-8096-4f78-8f7a-caa87f77cee3"
   },
   "source": [
    "## False Positives and False Negatives Analysis"
   ]
  },
  {
   "cell_type": "code",
   "execution_count": 51,
   "id": "856d374d-54df-4c0b-a7f9-eff4af93d289",
   "metadata": {
    "colab": {
     "base_uri": "https://localhost:8080/"
    },
    "id": "856d374d-54df-4c0b-a7f9-eff4af93d289",
    "outputId": "feb62aa7-5e8f-4c91-d47c-d095d4e87292"
   },
   "outputs": [
    {
     "name": "stdout",
     "output_type": "stream",
     "text": [
      "\n",
      "False Positives (Isolation Forest): 3694\n",
      "False Negatives (Isolation Forest): 2033\n",
      "\n",
      "False Positives (LOF): 316768\n",
      "False Negatives (LOF): 1099\n"
     ]
    }
   ],
   "source": [
    "# Combine predictions and true labels\n",
    "results = pd.DataFrame({\n",
    "    'true': y_test_true,\n",
    "    'pred_iso': test_preds_iso,\n",
    "    'pred_lof': test_preds_lof\n",
    "})\n",
    "\n",
    "# False Positives and False Negatives for IF\n",
    "false_positives_iso = results[(results['true'] == 0) & (results['pred_iso'] == 1)]\n",
    "false_negatives_iso = results[(results['true'] == 1) & (results['pred_iso'] == 0)]\n",
    "\n",
    "# False Positives and False Negatives for LOF\n",
    "false_positives_lof = results[(results['true'] == 0) & (results['pred_lof'] == 1)]\n",
    "false_negatives_lof = results[(results['true'] == 1) & (results['pred_lof'] == 0)]\n",
    "\n",
    "print(f\"\\nFalse Positives (Isolation Forest): {len(false_positives_iso)}\")\n",
    "print(f\"False Negatives (Isolation Forest): {len(false_negatives_iso)}\")\n",
    "print(f\"\\nFalse Positives (LOF): {len(false_positives_lof)}\")\n",
    "print(f\"False Negatives (LOF): {len(false_negatives_lof)}\")"
   ]
  },
  {
   "cell_type": "markdown",
   "id": "37c603cf-640a-47c3-8d5e-86cf5b76fbfa",
   "metadata": {
    "id": "37c603cf-640a-47c3-8d5e-86cf5b76fbfa"
   },
   "source": [
    "## Summary"
   ]
  },
  {
   "cell_type": "code",
   "execution_count": 18,
   "id": "c1d1f176-d7d6-4da7-a92b-6d24232ac4ac",
   "metadata": {
    "colab": {
     "base_uri": "https://localhost:8080/",
     "height": 879
    },
    "id": "c1d1f176-d7d6-4da7-a92b-6d24232ac4ac",
    "outputId": "40b699c4-2f92-4398-b2f4-fdeb3af25a1d"
   },
   "outputs": [
    {
     "data": {
      "image/png": "[encoded data removed]",
      "text/plain": [
       "<Figure size 500x500 with 1 Axes>"
      ]
     },
     "metadata": {},
     "output_type": "display_data"
    },
    {
     "data": {
      "image/png": "[encoded data removed]",
      "text/plain": [
       "<Figure size 640x480 with 1 Axes>"
      ]
     },
     "metadata": {},
     "output_type": "display_data"
    }
   ],
   "source": [
    "# Pie chart of fraud distribution\n",
    "labels = ['Genuine', 'Fraud']\n",
    "sizes = [sum(y_test_true==0), sum(y_test_true==1)]\n",
    "colors = ['skyblue', 'red']\n",
    "\n",
    "plt.figure(figsize=(5,5))\n",
    "plt.pie(sizes, labels=labels, colors=colors, autopct='%1.1f%%')\n",
    "plt.title(\"True Fraud vs Genuine Transactions\")\n",
    "plt.show()\n",
    "\n",
    "# Bar chart for model comparison\n",
    "models = ['Isolation Forest', 'Local Outlier Factor']\n",
    "scores = [\n",
    "    roc_auc_score(y_test_true, test_preds_iso),\n",
    "    roc_auc_score(y_test_true, test_preds_lof)\n",
    "]\n",
    "\n",
    "plt.bar(models, scores, color='orange')\n",
    "plt.ylabel(\"ROC AUC Score\")\n",
    "plt.title(\"Model Comparison\")\n",
    "plt.show()"
   ]
  },
  {
   "cell_type": "markdown",
   "id": "a81WgxgCrzJ_",
   "metadata": {
    "id": "a81WgxgCrzJ_"
   },
   "source": [
    "## **Auto-encoder Model**"
   ]
  },
  {
   "cell_type": "code",
   "execution_count": 19,
   "id": "163RyGvvr2ce",
   "metadata": {
    "id": "163RyGvvr2ce"
   },
   "outputs": [],
   "source": [
    "import pandas as pd\n",
    "import numpy as np\n",
    "from sklearn.preprocessing import StandardScaler, LabelEncoder\n",
    "from sklearn.metrics import classification_report, confusion_matrix, roc_auc_score\n",
    "\n",
    "import tensorflow as tf\n",
    "from tensorflow.keras.models import Model\n",
    "from tensorflow.keras.layers import Input, Dense\n",
    "from tensorflow.keras.optimizers import Adam\n",
    "import matplotlib.pyplot as plt\n",
    "import seaborn as sns\n",
    "import warnings\n",
    "warnings.filterwarnings(\"ignore\")"
   ]
  },
  {
   "cell_type": "code",
   "execution_count": 20,
   "id": "hglxZklUsE-m",
   "metadata": {
    "id": "hglxZklUsE-m"
   },
   "outputs": [],
   "source": [
    "# train_df = pd.read_csv(\"fraudTrain.csv\")\n",
    "# test_df = pd.read_csv(\"fraudTest.csv\")\n",
    "\n",
    "# def preprocess(df):\n",
    "#     df = df.copy()\n",
    "\n",
    "#     df['trans_date_trans_time'] = pd.to_datetime(df['trans_date_trans_time'])\n",
    "#     df['dob'] = pd.to_datetime(df['dob'])\n",
    "\n",
    "#     df['age'] = (df['trans_date_trans_time'] - df['dob']).dt.days // 365\n",
    "#     df['hour'] = df['trans_date_trans_time'].dt.hour\n",
    "#     df['day'] = df['trans_date_trans_time'].dt.day\n",
    "#     df['month'] = df['trans_date_trans_time'].dt.month\n",
    "#     df['weekday'] = df['trans_date_trans_time'].dt.weekday\n",
    "\n",
    "#     df.drop(columns=['trans_num', 'first', 'last', 'street', 'dob', 'trans_date_trans_time'], inplace=True)\n",
    "\n",
    "#     cat_cols = df.select_dtypes(include='object').columns\n",
    "#     for col in cat_cols:\n",
    "#         df[col] = LabelEncoder().fit_transform(df[col].astype(str))\n",
    "\n",
    "#     return df\n",
    "\n",
    "# train_clean = preprocess(train_df)\n",
    "# test_clean = preprocess(test_df)\n",
    "\n",
    "# y_train_true = train_clean['is_fraud']\n",
    "# y_test_true = test_clean['is_fraud']\n",
    "\n",
    "# X_train = train_clean.drop(columns=['is_fraud'])\n",
    "# X_test = test_clean.drop(columns=['is_fraud'])\n",
    "\n",
    "# scaler = StandardScaler()\n",
    "# X_train_scaled = scaler.fit_transform(X_train)\n",
    "# X_test_scaled = scaler.transform(X_test)"
   ]
  },
  {
   "cell_type": "code",
   "execution_count": 21,
   "id": "-hyISjbVsIrY",
   "metadata": {
    "colab": {
     "base_uri": "https://localhost:8080/",
     "height": 353
    },
    "id": "-hyISjbVsIrY",
    "outputId": "823afda4-06b5-433c-8f54-6baaf246b5a8"
   },
   "outputs": [
    {
     "data": {
      "text/html": [
       "<pre style=\"white-space:pre;overflow-x:auto;line-height:normal;font-family:Menlo,'DejaVu Sans Mono',consolas,'Courier New',monospace\"><span style=\"font-weight: bold\">Model: \"functional\"</span>\n",
       "</pre>\n"
      ],
      "text/plain": [
       "\u001b[1mModel: \"functional\"\u001b[0m\n"
      ]
     },
     "metadata": {},
     "output_type": "display_data"
    },
    {
     "data": {
      "text/html": [
       "<pre style=\"white-space:pre;overflow-x:auto;line-height:normal;font-family:Menlo,'DejaVu Sans Mono',consolas,'Courier New',monospace\">┏━━━━━━━━━━━━━━━━━━━━━━━━━━━━━━━━━━━━━━┳━━━━━━━━━━━━━━━━━━━━━━━━━━━━━┳━━━━━━━━━━━━━━━━━┓\n",
       "┃<span style=\"font-weight: bold\"> Layer (type)                         </span>┃<span style=\"font-weight: bold\"> Output Shape                </span>┃<span style=\"font-weight: bold\">         Param # </span>┃\n",
       "┡━━━━━━━━━━━━━━━━━━━━━━━━━━━━━━━━━━━━━━╇━━━━━━━━━━━━━━━━━━━━━━━━━━━━━╇━━━━━━━━━━━━━━━━━┩\n",
       "│ input_layer (<span style=\"color: #0087ff; text-decoration-color: #0087ff\">InputLayer</span>)             │ (<span style=\"color: #00d7ff; text-decoration-color: #00d7ff\">None</span>, <span style=\"color: #00af00; text-decoration-color: #00af00\">20</span>)                  │               <span style=\"color: #00af00; text-decoration-color: #00af00\">0</span> │\n",
       "├──────────────────────────────────────┼─────────────────────────────┼─────────────────┤\n",
       "│ dense (<span style=\"color: #0087ff; text-decoration-color: #0087ff\">Dense</span>)                        │ (<span style=\"color: #00d7ff; text-decoration-color: #00d7ff\">None</span>, <span style=\"color: #00af00; text-decoration-color: #00af00\">32</span>)                  │             <span style=\"color: #00af00; text-decoration-color: #00af00\">672</span> │\n",
       "├──────────────────────────────────────┼─────────────────────────────┼─────────────────┤\n",
       "│ dense_1 (<span style=\"color: #0087ff; text-decoration-color: #0087ff\">Dense</span>)                      │ (<span style=\"color: #00d7ff; text-decoration-color: #00d7ff\">None</span>, <span style=\"color: #00af00; text-decoration-color: #00af00\">16</span>)                  │             <span style=\"color: #00af00; text-decoration-color: #00af00\">528</span> │\n",
       "├──────────────────────────────────────┼─────────────────────────────┼─────────────────┤\n",
       "│ dense_2 (<span style=\"color: #0087ff; text-decoration-color: #0087ff\">Dense</span>)                      │ (<span style=\"color: #00d7ff; text-decoration-color: #00d7ff\">None</span>, <span style=\"color: #00af00; text-decoration-color: #00af00\">8</span>)                   │             <span style=\"color: #00af00; text-decoration-color: #00af00\">136</span> │\n",
       "├──────────────────────────────────────┼─────────────────────────────┼─────────────────┤\n",
       "│ dense_3 (<span style=\"color: #0087ff; text-decoration-color: #0087ff\">Dense</span>)                      │ (<span style=\"color: #00d7ff; text-decoration-color: #00d7ff\">None</span>, <span style=\"color: #00af00; text-decoration-color: #00af00\">16</span>)                  │             <span style=\"color: #00af00; text-decoration-color: #00af00\">144</span> │\n",
       "├──────────────────────────────────────┼─────────────────────────────┼─────────────────┤\n",
       "│ dense_4 (<span style=\"color: #0087ff; text-decoration-color: #0087ff\">Dense</span>)                      │ (<span style=\"color: #00d7ff; text-decoration-color: #00d7ff\">None</span>, <span style=\"color: #00af00; text-decoration-color: #00af00\">32</span>)                  │             <span style=\"color: #00af00; text-decoration-color: #00af00\">544</span> │\n",
       "├──────────────────────────────────────┼─────────────────────────────┼─────────────────┤\n",
       "│ dense_5 (<span style=\"color: #0087ff; text-decoration-color: #0087ff\">Dense</span>)                      │ (<span style=\"color: #00d7ff; text-decoration-color: #00d7ff\">None</span>, <span style=\"color: #00af00; text-decoration-color: #00af00\">20</span>)                  │             <span style=\"color: #00af00; text-decoration-color: #00af00\">660</span> │\n",
       "└──────────────────────────────────────┴─────────────────────────────┴─────────────────┘\n",
       "</pre>\n"
      ],
      "text/plain": [
       "┏━━━━━━━━━━━━━━━━━━━━━━━━━━━━━━━━━━━━━━┳━━━━━━━━━━━━━━━━━━━━━━━━━━━━━┳━━━━━━━━━━━━━━━━━┓\n",
       "┃\u001b[1m \u001b[0m\u001b[1mLayer (type)                        \u001b[0m\u001b[1m \u001b[0m┃\u001b[1m \u001b[0m\u001b[1mOutput Shape               \u001b[0m\u001b[1m \u001b[0m┃\u001b[1m \u001b[0m\u001b[1m        Param #\u001b[0m\u001b[1m \u001b[0m┃\n",
       "┡━━━━━━━━━━━━━━━━━━━━━━━━━━━━━━━━━━━━━━╇━━━━━━━━━━━━━━━━━━━━━━━━━━━━━╇━━━━━━━━━━━━━━━━━┩\n",
       "│ input_layer (\u001b[38;5;33mInputLayer\u001b[0m)             │ (\u001b[38;5;45mNone\u001b[0m, \u001b[38;5;34m20\u001b[0m)                  │               \u001b[38;5;34m0\u001b[0m │\n",
       "├──────────────────────────────────────┼─────────────────────────────┼─────────────────┤\n",
       "│ dense (\u001b[38;5;33mDense\u001b[0m)                        │ (\u001b[38;5;45mNone\u001b[0m, \u001b[38;5;34m32\u001b[0m)                  │             \u001b[38;5;34m672\u001b[0m │\n",
       "├──────────────────────────────────────┼─────────────────────────────┼─────────────────┤\n",
       "│ dense_1 (\u001b[38;5;33mDense\u001b[0m)                      │ (\u001b[38;5;45mNone\u001b[0m, \u001b[38;5;34m16\u001b[0m)                  │             \u001b[38;5;34m528\u001b[0m │\n",
       "├──────────────────────────────────────┼─────────────────────────────┼─────────────────┤\n",
       "│ dense_2 (\u001b[38;5;33mDense\u001b[0m)                      │ (\u001b[38;5;45mNone\u001b[0m, \u001b[38;5;34m8\u001b[0m)                   │             \u001b[38;5;34m136\u001b[0m │\n",
       "├──────────────────────────────────────┼─────────────────────────────┼─────────────────┤\n",
       "│ dense_3 (\u001b[38;5;33mDense\u001b[0m)                      │ (\u001b[38;5;45mNone\u001b[0m, \u001b[38;5;34m16\u001b[0m)                  │             \u001b[38;5;34m144\u001b[0m │\n",
       "├──────────────────────────────────────┼─────────────────────────────┼─────────────────┤\n",
       "│ dense_4 (\u001b[38;5;33mDense\u001b[0m)                      │ (\u001b[38;5;45mNone\u001b[0m, \u001b[38;5;34m32\u001b[0m)                  │             \u001b[38;5;34m544\u001b[0m │\n",
       "├──────────────────────────────────────┼─────────────────────────────┼─────────────────┤\n",
       "│ dense_5 (\u001b[38;5;33mDense\u001b[0m)                      │ (\u001b[38;5;45mNone\u001b[0m, \u001b[38;5;34m20\u001b[0m)                  │             \u001b[38;5;34m660\u001b[0m │\n",
       "└──────────────────────────────────────┴─────────────────────────────┴─────────────────┘\n"
      ]
     },
     "metadata": {},
     "output_type": "display_data"
    },
    {
     "data": {
      "text/html": [
       "<pre style=\"white-space:pre;overflow-x:auto;line-height:normal;font-family:Menlo,'DejaVu Sans Mono',consolas,'Courier New',monospace\"><span style=\"font-weight: bold\"> Total params: </span><span style=\"color: #00af00; text-decoration-color: #00af00\">2,684</span> (10.48 KB)\n",
       "</pre>\n"
      ],
      "text/plain": [
       "\u001b[1m Total params: \u001b[0m\u001b[38;5;34m2,684\u001b[0m (10.48 KB)\n"
      ]
     },
     "metadata": {},
     "output_type": "display_data"
    },
    {
     "data": {
      "text/html": [
       "<pre style=\"white-space:pre;overflow-x:auto;line-height:normal;font-family:Menlo,'DejaVu Sans Mono',consolas,'Courier New',monospace\"><span style=\"font-weight: bold\"> Trainable params: </span><span style=\"color: #00af00; text-decoration-color: #00af00\">2,684</span> (10.48 KB)\n",
       "</pre>\n"
      ],
      "text/plain": [
       "\u001b[1m Trainable params: \u001b[0m\u001b[38;5;34m2,684\u001b[0m (10.48 KB)\n"
      ]
     },
     "metadata": {},
     "output_type": "display_data"
    },
    {
     "data": {
      "text/html": [
       "<pre style=\"white-space:pre;overflow-x:auto;line-height:normal;font-family:Menlo,'DejaVu Sans Mono',consolas,'Courier New',monospace\"><span style=\"font-weight: bold\"> Non-trainable params: </span><span style=\"color: #00af00; text-decoration-color: #00af00\">0</span> (0.00 B)\n",
       "</pre>\n"
      ],
      "text/plain": [
       "\u001b[1m Non-trainable params: \u001b[0m\u001b[38;5;34m0\u001b[0m (0.00 B)\n"
      ]
     },
     "metadata": {},
     "output_type": "display_data"
    }
   ],
   "source": [
    "input_dim = X_train_scaled.shape[1]\n",
    "\n",
    "input_layer = Input(shape=(input_dim,))\n",
    "encoded = Dense(32, activation=\"relu\")(input_layer)\n",
    "encoded = Dense(16, activation=\"relu\")(encoded)\n",
    "encoded = Dense(8, activation=\"relu\")(encoded)\n",
    "\n",
    "decoded = Dense(16, activation='relu')(encoded)\n",
    "decoded = Dense(32, activation='relu')(decoded)\n",
    "decoded = Dense(input_dim, activation='linear')(decoded)\n",
    "\n",
    "autoencoder = Model(inputs=input_layer, outputs=decoded)\n",
    "autoencoder.compile(optimizer=Adam(learning_rate=0.001), loss='mse')\n",
    "\n",
    "autoencoder.summary()"
   ]
  },
  {
   "cell_type": "code",
   "execution_count": 22,
   "id": "ZLT1bgk2sV5z",
   "metadata": {
    "colab": {
     "base_uri": "https://localhost:8080/"
    },
    "id": "ZLT1bgk2sV5z",
    "outputId": "733c8b68-56e1-440e-9126-ddbc5f636b01"
   },
   "outputs": [
    {
     "name": "stdout",
     "output_type": "stream",
     "text": [
      "Epoch 1/20\n",
      "\u001b[1m4533/4533\u001b[0m \u001b[32m━━━━━━━━━━━━━━━━━━━━\u001b[0m\u001b[37m\u001b[0m \u001b[1m8s\u001b[0m 1ms/step - loss: 0.4712 - val_loss: 0.4033\n",
      "Epoch 2/20\n",
      "\u001b[1m4533/4533\u001b[0m \u001b[32m━━━━━━━━━━━━━━━━━━━━\u001b[0m\u001b[37m\u001b[0m \u001b[1m6s\u001b[0m 1ms/step - loss: 0.2998 - val_loss: 0.3889\n",
      "Epoch 3/20\n",
      "\u001b[1m4533/4533\u001b[0m \u001b[32m━━━━━━━━━━━━━━━━━━━━\u001b[0m\u001b[37m\u001b[0m \u001b[1m6s\u001b[0m 1ms/step - loss: 0.2820 - val_loss: 0.3746\n",
      "Epoch 4/20\n",
      "\u001b[1m4533/4533\u001b[0m \u001b[32m━━━━━━━━━━━━━━━━━━━━\u001b[0m\u001b[37m\u001b[0m \u001b[1m6s\u001b[0m 1ms/step - loss: 0.2721 - val_loss: 0.3581\n",
      "Epoch 5/20\n",
      "\u001b[1m4533/4533\u001b[0m \u001b[32m━━━━━━━━━━━━━━━━━━━━\u001b[0m\u001b[37m\u001b[0m \u001b[1m6s\u001b[0m 1ms/step - loss: 0.2620 - val_loss: 0.3516\n",
      "Epoch 6/20\n",
      "\u001b[1m4533/4533\u001b[0m \u001b[32m━━━━━━━━━━━━━━━━━━━━\u001b[0m\u001b[37m\u001b[0m \u001b[1m6s\u001b[0m 1ms/step - loss: 0.2576 - val_loss: 0.3701\n",
      "Epoch 7/20\n",
      "\u001b[1m4533/4533\u001b[0m \u001b[32m━━━━━━━━━━━━━━━━━━━━\u001b[0m\u001b[37m\u001b[0m \u001b[1m6s\u001b[0m 1ms/step - loss: 0.2549 - val_loss: 0.3679\n",
      "Epoch 8/20\n",
      "\u001b[1m4533/4533\u001b[0m \u001b[32m━━━━━━━━━━━━━━━━━━━━\u001b[0m\u001b[37m\u001b[0m \u001b[1m6s\u001b[0m 1ms/step - loss: 0.2529 - val_loss: 0.3596\n",
      "Epoch 9/20\n",
      "\u001b[1m4533/4533\u001b[0m \u001b[32m━━━━━━━━━━━━━━━━━━━━\u001b[0m\u001b[37m\u001b[0m \u001b[1m6s\u001b[0m 1ms/step - loss: 0.2513 - val_loss: 0.3685\n",
      "Epoch 10/20\n",
      "\u001b[1m4533/4533\u001b[0m \u001b[32m━━━━━━━━━━━━━━━━━━━━\u001b[0m\u001b[37m\u001b[0m \u001b[1m6s\u001b[0m 1ms/step - loss: 0.2502 - val_loss: 0.3625\n",
      "Epoch 11/20\n",
      "\u001b[1m4533/4533\u001b[0m \u001b[32m━━━━━━━━━━━━━━━━━━━━\u001b[0m\u001b[37m\u001b[0m \u001b[1m6s\u001b[0m 1ms/step - loss: 0.2491 - val_loss: 0.3490\n",
      "Epoch 12/20\n",
      "\u001b[1m4533/4533\u001b[0m \u001b[32m━━━━━━━━━━━━━━━━━━━━\u001b[0m\u001b[37m\u001b[0m \u001b[1m6s\u001b[0m 1ms/step - loss: 0.2488 - val_loss: 0.3604\n",
      "Epoch 13/20\n",
      "\u001b[1m4533/4533\u001b[0m \u001b[32m━━━━━━━━━━━━━━━━━━━━\u001b[0m\u001b[37m\u001b[0m \u001b[1m6s\u001b[0m 1ms/step - loss: 0.2471 - val_loss: 0.3432\n",
      "Epoch 14/20\n",
      "\u001b[1m4533/4533\u001b[0m \u001b[32m━━━━━━━━━━━━━━━━━━━━\u001b[0m\u001b[37m\u001b[0m \u001b[1m7s\u001b[0m 2ms/step - loss: 0.2469 - val_loss: 0.3447\n",
      "Epoch 15/20\n",
      "\u001b[1m4533/4533\u001b[0m \u001b[32m━━━━━━━━━━━━━━━━━━━━\u001b[0m\u001b[37m\u001b[0m \u001b[1m7s\u001b[0m 1ms/step - loss: 0.2456 - val_loss: 0.3719\n",
      "Epoch 16/20\n",
      "\u001b[1m4533/4533\u001b[0m \u001b[32m━━━━━━━━━━━━━━━━━━━━\u001b[0m\u001b[37m\u001b[0m \u001b[1m6s\u001b[0m 1ms/step - loss: 0.2448 - val_loss: 0.3443\n",
      "Epoch 17/20\n",
      "\u001b[1m4533/4533\u001b[0m \u001b[32m━━━━━━━━━━━━━━━━━━━━\u001b[0m\u001b[37m\u001b[0m \u001b[1m6s\u001b[0m 1ms/step - loss: 0.2440 - val_loss: 0.3400\n",
      "Epoch 18/20\n",
      "\u001b[1m4533/4533\u001b[0m \u001b[32m━━━━━━━━━━━━━━━━━━━━\u001b[0m\u001b[37m\u001b[0m \u001b[1m6s\u001b[0m 1ms/step - loss: 0.2435 - val_loss: 0.3485\n",
      "Epoch 19/20\n",
      "\u001b[1m4533/4533\u001b[0m \u001b[32m━━━━━━━━━━━━━━━━━━━━\u001b[0m\u001b[37m\u001b[0m \u001b[1m6s\u001b[0m 1ms/step - loss: 0.2424 - val_loss: 0.3495\n",
      "Epoch 20/20\n",
      "\u001b[1m4533/4533\u001b[0m \u001b[32m━━━━━━━━━━━━━━━━━━━━\u001b[0m\u001b[37m\u001b[0m \u001b[1m6s\u001b[0m 1ms/step - loss: 0.2413 - val_loss: 0.3251\n"
     ]
    }
   ],
   "source": [
    "# Filter only non-fraud data\n",
    "X_train_no_fraud = X_train_scaled[y_train_true == 0]\n",
    "\n",
    "history = autoencoder.fit(\n",
    "    X_train_no_fraud, X_train_no_fraud,\n",
    "    epochs=20,\n",
    "    batch_size=256,\n",
    "    shuffle=True,\n",
    "    validation_split=0.1,\n",
    "    verbose=1\n",
    ")"
   ]
  },
  {
   "cell_type": "code",
   "execution_count": 23,
   "id": "1tbPbfnJsbAB",
   "metadata": {
    "colab": {
     "base_uri": "https://localhost:8080/"
    },
    "id": "1tbPbfnJsbAB",
    "outputId": "7be22c1c-7f0b-444b-9dd6-66419c034300"
   },
   "outputs": [
    {
     "name": "stdout",
     "output_type": "stream",
     "text": [
      "\u001b[1m17367/17367\u001b[0m \u001b[32m━━━━━━━━━━━━━━━━━━━━\u001b[0m\u001b[37m\u001b[0m \u001b[1m16s\u001b[0m 931us/step\n"
     ]
    }
   ],
   "source": [
    "# Predict reconstruction\n",
    "reconstructions = autoencoder.predict(X_test_scaled)\n",
    "mse = np.mean(np.power(X_test_scaled - reconstructions, 2), axis=1)"
   ]
  },
  {
   "cell_type": "code",
   "execution_count": 24,
   "id": "VDP8tzbdseMV",
   "metadata": {
    "id": "VDP8tzbdseMV"
   },
   "outputs": [],
   "source": [
    "threshold = np.percentile(mse, 95)  # Top 5% as anomalies\n",
    "\n",
    "y_pred_ae = (mse > threshold).astype(int)"
   ]
  },
  {
   "cell_type": "code",
   "execution_count": 25,
   "id": "YOcNtCXTsh1X",
   "metadata": {
    "colab": {
     "base_uri": "https://localhost:8080/"
    },
    "id": "YOcNtCXTsh1X",
    "outputId": "487d2ccc-8eb7-4e51-9835-259ba3a4ee71"
   },
   "outputs": [
    {
     "name": "stdout",
     "output_type": "stream",
     "text": [
      "Confusion Matrix:\n",
      " [[526217  27357]\n",
      " [  1716    429]]\n",
      "Classification Report:\n",
      "               precision    recall  f1-score   support\n",
      "\n",
      "           0       1.00      0.95      0.97    553574\n",
      "           1       0.02      0.20      0.03      2145\n",
      "\n",
      "    accuracy                           0.95    555719\n",
      "   macro avg       0.51      0.58      0.50    555719\n",
      "weighted avg       0.99      0.95      0.97    555719\n",
      "\n",
      "ROC AUC Score: 0.5752905663922078\n"
     ]
    }
   ],
   "source": [
    "print(\"Confusion Matrix:\\n\", confusion_matrix(y_test_true, y_pred_ae))\n",
    "print(\"Classification Report:\\n\", classification_report(y_test_true, y_pred_ae))\n",
    "print(\"ROC AUC Score:\", roc_auc_score(y_test_true, y_pred_ae))"
   ]
  },
  {
   "cell_type": "code",
   "execution_count": 26,
   "id": "7SMZvGEyskQf",
   "metadata": {
    "colab": {
     "base_uri": "https://localhost:8080/",
     "height": 487
    },
    "id": "7SMZvGEyskQf",
    "outputId": "10208d22-60ba-4ec1-875f-3f4360c79677"
   },
   "outputs": [
    {
     "data": {
      "image/png": "[encoded data removed]",
      "text/plain": [
       "<Figure size 1000x500 with 1 Axes>"
      ]
     },
     "metadata": {},
     "output_type": "display_data"
    }
   ],
   "source": [
    "plt.figure(figsize=(10,5))\n",
    "sns.histplot(mse, bins=100, kde=True)\n",
    "plt.axvline(threshold, color='red', linestyle='--', label='Threshold')\n",
    "plt.title(\"Reconstruction Error Distribution\")\n",
    "plt.xlabel(\"MSE\")\n",
    "plt.ylabel(\"Frequency\")\n",
    "plt.legend()\n",
    "plt.show()"
   ]
  },
  {
   "cell_type": "markdown",
   "id": "XrY9g_NozmhI",
   "metadata": {
    "id": "XrY9g_NozmhI"
   },
   "source": [
    "## Reason for flagging:\n",
    "\n",
    "- Autoencoders learn to reproduce normal data.\n",
    "- If reconstruction error is very high, the sample likely deviates from the learned pattern ⇒ potential fraud."
   ]
  },
  {
   "cell_type": "code",
   "execution_count": 52,
   "id": "d7a7069a-283f-43e4-8af5-0a4f2e512ef7",
   "metadata": {},
   "outputs": [
    {
     "name": "stdout",
     "output_type": "stream",
     "text": [
      "\n",
      "False Positives (Isolation Forest): 3694\n",
      "False Negatives (Isolation Forest): 2033\n",
      "\n",
      "False Positives (LOF): 316768\n",
      "False Negatives (LOF): 1099\n",
      "\n",
      "False Positives (Autoencoder): 27357\n",
      "False Negatives (Autoencoder): 1716\n"
     ]
    }
   ],
   "source": [
    "# Combine predictions and true labels\n",
    "# Add Autoencoder predictions to results DataFrame\n",
    "results['pred_ae'] = y_pred_ae\n",
    "\n",
    "# False Positives and False Negatives for IF\n",
    "false_positives_iso = results[(results['true'] == 0) & (results['pred_iso'] == 1)]\n",
    "false_negatives_iso = results[(results['true'] == 1) & (results['pred_iso'] == 0)]\n",
    "print(f\"\\nFalse Positives (Isolation Forest): {len(false_positives_iso)}\")\n",
    "print(f\"False Negatives (Isolation Forest): {len(false_negatives_iso)}\")\n",
    "\n",
    "# False Positives and False Negatives for LOF\n",
    "false_positives_lof = results[(results['true'] == 0) & (results['pred_lof'] == 1)]\n",
    "false_negatives_lof = results[(results['true'] == 1) & (results['pred_lof'] == 0)]\n",
    "print(f\"\\nFalse Positives (LOF): {len(false_positives_lof)}\")\n",
    "print(f\"False Negatives (LOF): {len(false_negatives_lof)}\")\n",
    "\n",
    "# False Positives and False Negatives for Autoencoder\n",
    "false_positives_ae = results[(results['true'] == 0) & (results['pred_ae'] == 1)]\n",
    "false_negatives_ae = results[(results['true'] == 1) & (results['pred_ae'] == 0)]\n",
    "print(f\"\\nFalse Positives (Autoencoder): {len(false_positives_ae)}\")\n",
    "print(f\"False Negatives (Autoencoder): {len(false_negatives_ae)}\")"
   ]
  },
  {
   "cell_type": "code",
   "execution_count": 56,
   "id": "5f3d8cdc-daa6-4d7d-b217-c29f18de261c",
   "metadata": {},
   "outputs": [
    {
     "data": {
      "text/html": [
       "<div>\n",
       "<style scoped>\n",
       "    .dataframe tbody tr th:only-of-type {\n",
       "        vertical-align: middle;\n",
       "    }\n",
       "\n",
       "    .dataframe tbody tr th {\n",
       "        vertical-align: top;\n",
       "    }\n",
       "\n",
       "    .dataframe thead th {\n",
       "        text-align: right;\n",
       "    }\n",
       "</style>\n",
       "<table border=\"1\" class=\"dataframe\">\n",
       "  <thead>\n",
       "    <tr style=\"text-align: right;\">\n",
       "      <th>Model</th>\n",
       "      <th>Isolation Forest</th>\n",
       "      <th>Local Outlier Factor</th>\n",
       "      <th>Autoencoder</th>\n",
       "    </tr>\n",
       "  </thead>\n",
       "  <tbody>\n",
       "    <tr>\n",
       "      <th>False Positives</th>\n",
       "      <td>3694</td>\n",
       "      <td>316768</td>\n",
       "      <td>27357</td>\n",
       "    </tr>\n",
       "    <tr>\n",
       "      <th>False Negatives</th>\n",
       "      <td>2033</td>\n",
       "      <td>1099</td>\n",
       "      <td>1716</td>\n",
       "    </tr>\n",
       "  </tbody>\n",
       "</table>\n",
       "</div>"
      ],
      "text/plain": [
       "Model            Isolation Forest  Local Outlier Factor  Autoencoder\n",
       "False Positives              3694                316768        27357\n",
       "False Negatives              2033                  1099         1716"
      ]
     },
     "execution_count": 56,
     "metadata": {},
     "output_type": "execute_result"
    }
   ],
   "source": [
    "# Compute FP and FN for all three models\n",
    "fp_iso = len(results[(results['true'] == 0) & (results['pred_iso'] == 1)])\n",
    "fn_iso = len(results[(results['true'] == 1) & (results['pred_iso'] == 0)])\n",
    "\n",
    "fp_lof = len(results[(results['true'] == 0) & (results['pred_lof'] == 1)])\n",
    "fn_lof = len(results[(results['true'] == 1) & (results['pred_lof'] == 0)])\n",
    "\n",
    "fp_ae = len(results[(results['true'] == 0) & (results['pred_ae'] == 1)])\n",
    "fn_ae = len(results[(results['true'] == 1) & (results['pred_ae'] == 0)])\n",
    "\n",
    "# Create DataFrame\n",
    "fp_fn_df = pd.DataFrame({\n",
    "    'Model': ['Isolation Forest', 'Local Outlier Factor', 'Autoencoder'],\n",
    "    'False Positives': [fp_iso, fp_lof, fp_ae],\n",
    "    'False Negatives': [fn_iso, fn_lof, fn_ae]\n",
    "})\n",
    "\n",
    "fp_fn_df.set_index('Model', inplace=True)\n",
    "\n",
    "# Display the table\n",
    "# print(fp_fn_df)\n",
    "fp_fn_df.T"
   ]
  },
  {
   "cell_type": "code",
   "execution_count": 58,
   "id": "7d97fa80-e6d9-4146-9e06-ea4435ec36b9",
   "metadata": {},
   "outputs": [
    {
     "data": {
      "text/html": [
       "<div>\n",
       "<style scoped>\n",
       "    .dataframe tbody tr th:only-of-type {\n",
       "        vertical-align: middle;\n",
       "    }\n",
       "\n",
       "    .dataframe tbody tr th {\n",
       "        vertical-align: top;\n",
       "    }\n",
       "\n",
       "    .dataframe thead th {\n",
       "        text-align: right;\n",
       "    }\n",
       "</style>\n",
       "<table border=\"1\" class=\"dataframe\">\n",
       "  <thead>\n",
       "    <tr style=\"text-align: right;\">\n",
       "      <th>Model</th>\n",
       "      <th>Isolation Forest</th>\n",
       "      <th>Local Outlier Factor</th>\n",
       "      <th>Autoencoder</th>\n",
       "    </tr>\n",
       "  </thead>\n",
       "  <tbody>\n",
       "    <tr>\n",
       "      <th>False Positives</th>\n",
       "      <td>3694 (0.66%)</td>\n",
       "      <td>316768 (57.00%)</td>\n",
       "      <td>27357 (4.92%)</td>\n",
       "    </tr>\n",
       "    <tr>\n",
       "      <th>False Negatives</th>\n",
       "      <td>2033 (0.37%)</td>\n",
       "      <td>1099 (0.20%)</td>\n",
       "      <td>1716 (0.31%)</td>\n",
       "    </tr>\n",
       "  </tbody>\n",
       "</table>\n",
       "</div>"
      ],
      "text/plain": [
       "Model           Isolation Forest Local Outlier Factor    Autoencoder\n",
       "False Positives     3694 (0.66%)      316768 (57.00%)  27357 (4.92%)\n",
       "False Negatives     2033 (0.37%)         1099 (0.20%)   1716 (0.31%)"
      ]
     },
     "execution_count": 58,
     "metadata": {},
     "output_type": "execute_result"
    }
   ],
   "source": [
    "# Total test samples\n",
    "total_samples = len(y_test_true)\n",
    "\n",
    "# Create the DataFrame with count and percentage (out of total samples)\n",
    "fp_fn_df = pd.DataFrame({\n",
    "    'Model': ['Isolation Forest', 'Local Outlier Factor', 'Autoencoder'],\n",
    "    'False Positives': [\n",
    "        f\"{fp_iso} ({fp_iso / total_samples * 100:.2f}%)\",\n",
    "        f\"{fp_lof} ({fp_lof / total_samples * 100:.2f}%)\",\n",
    "        f\"{fp_ae} ({fp_ae / total_samples * 100:.2f}%)\"\n",
    "    ],\n",
    "    'False Negatives': [\n",
    "        f\"{fn_iso} ({fn_iso / total_samples * 100:.2f}%)\",\n",
    "        f\"{fn_lof} ({fn_lof / total_samples * 100:.2f}%)\",\n",
    "        f\"{fn_ae} ({fn_ae / total_samples * 100:.2f}%)\"\n",
    "    ]\n",
    "})\n",
    "\n",
    "# Set 'Model' as index\n",
    "fp_fn_df.set_index('Model', inplace=True)\n",
    "\n",
    "# Display the result\n",
    "# print(fp_fn_df)\n",
    "\n",
    "fp_fn_df.T"
   ]
  },
  {
   "cell_type": "code",
   "execution_count": 27,
   "id": "rOv4y1rMvLoV",
   "metadata": {
    "colab": {
     "base_uri": "https://localhost:8080/",
     "height": 452
    },
    "id": "rOv4y1rMvLoV",
    "outputId": "eddca86b-eb08-4617-9521-4c2162e38677"
   },
   "outputs": [
    {
     "data": {
      "image/png": "[encoded data removed]",
      "text/plain": [
       "<Figure size 640x480 with 1 Axes>"
      ]
     },
     "metadata": {},
     "output_type": "display_data"
    }
   ],
   "source": [
    "# Bar chart for model comparison\n",
    "models = ['Isolation Forest', 'Local Outlier Factor', 'Autoencoder']\n",
    "scores = [\n",
    "    roc_auc_score(y_test_true, test_preds_iso),\n",
    "    roc_auc_score(y_test_true, test_preds_lof),\n",
    "    roc_auc_score(y_test_true, y_pred_ae)\n",
    "]\n",
    "\n",
    "plt.bar(models, scores, color='orange')\n",
    "plt.ylabel(\"ROC AUC Score\")\n",
    "plt.title(\"Model Comparison\")\n",
    "plt.show()"
   ]
  },
  {
   "cell_type": "markdown",
   "id": "w-nwM_bTs3Eg",
   "metadata": {
    "id": "w-nwM_bTs3Eg"
   },
   "source": [
    "## ROC Curve Plot"
   ]
  },
  {
   "cell_type": "code",
   "execution_count": 28,
   "id": "gQja4fVlsmjj",
   "metadata": {
    "colab": {
     "base_uri": "https://localhost:8080/",
     "height": 564
    },
    "id": "gQja4fVlsmjj",
    "outputId": "a2b2fac2-8b11-4654-9473-b9d3b2e8b884"
   },
   "outputs": [
    {
     "data": {
      "image/png": "[encoded data removed]",
      "text/plain": [
       "<Figure size 800x600 with 1 Axes>"
      ]
     },
     "metadata": {},
     "output_type": "display_data"
    }
   ],
   "source": [
    "from sklearn.metrics import roc_curve, auc\n",
    "\n",
    "fpr, tpr, thresholds = roc_curve(y_test_true, mse)\n",
    "roc_auc = auc(fpr, tpr)\n",
    "\n",
    "plt.figure(figsize=(8,6))\n",
    "plt.plot(fpr, tpr, color='darkorange', lw=2, label='ROC curve (AUC = %0.4f)' % roc_auc)\n",
    "plt.plot([0, 1], [0, 1], color='navy', lw=2, linestyle='--')\n",
    "plt.xlabel('False Positive Rate')\n",
    "plt.ylabel('True Positive Rate')\n",
    "plt.title('Receiver Operating Characteristic (ROC) - Autoencoder')\n",
    "plt.legend(loc=\"lower right\")\n",
    "plt.grid()\n",
    "plt.show()"
   ]
  },
  {
   "cell_type": "markdown",
   "id": "QYTaj3D2s-kp",
   "metadata": {
    "id": "QYTaj3D2s-kp"
   },
   "source": [
    "## SHAP Explanations via Surrogate Model"
   ]
  },
  {
   "cell_type": "code",
   "execution_count": 29,
   "id": "-8Jn5b44s7Vc",
   "metadata": {
    "colab": {
     "base_uri": "https://localhost:8080/",
     "height": 662
    },
    "id": "-8Jn5b44s7Vc",
    "outputId": "dbbe1a7d-e6bd-4389-bb01-0ce13441f679"
   },
   "outputs": [
    {
     "name": "stderr",
     "output_type": "stream",
     "text": [
      " 99%|===================| 1105159/1111438 [00:32<00:00]        "
     ]
    },
    {
     "data": {
      "text/plain": [
       "<Figure size 640x480 with 0 Axes>"
      ]
     },
     "metadata": {},
     "output_type": "display_data"
    },
    {
     "data": {
      "image/png": "[encoded data removed]",
      "text/plain": [
       "<Figure size 1600x900 with 1 Axes>"
      ]
     },
     "metadata": {},
     "output_type": "display_data"
    }
   ],
   "source": [
    "import shap\n",
    "from sklearn.tree import DecisionTreeClassifier\n",
    "\n",
    "# Train surrogate model using reconstruction error\n",
    "surrogate = DecisionTreeClassifier(max_depth=5)\n",
    "surrogate.fit(X_test_scaled, (mse > threshold).astype(int))\n",
    "\n",
    "# SHAP explanation\n",
    "explainer = shap.Explainer(surrogate, X_test_scaled)\n",
    "shap_values = explainer(X_test_scaled) #[:100])  # Limit to 100 samples for performance\n",
    "\n",
    "shap.summary_plot(shap_values, features=X_test, feature_names=X_test.columns, max_display=10)"
   ]
  },
  {
   "cell_type": "code",
   "execution_count": 59,
   "id": "150fda93-09ff-4d12-b130-1afd39f8c035",
   "metadata": {},
   "outputs": [
    {
     "data": {
      "text/html": [
       "<div>\n",
       "<style scoped>\n",
       "    .dataframe tbody tr th:only-of-type {\n",
       "        vertical-align: middle;\n",
       "    }\n",
       "\n",
       "    .dataframe tbody tr th {\n",
       "        vertical-align: top;\n",
       "    }\n",
       "\n",
       "    .dataframe thead th {\n",
       "        text-align: right;\n",
       "    }\n",
       "</style>\n",
       "<table border=\"1\" class=\"dataframe\">\n",
       "  <thead>\n",
       "    <tr style=\"text-align: right;\">\n",
       "      <th></th>\n",
       "      <th>trans_date_trans_time</th>\n",
       "      <th>cc_num</th>\n",
       "      <th>merchant</th>\n",
       "      <th>category</th>\n",
       "      <th>amt</th>\n",
       "      <th>first</th>\n",
       "      <th>last</th>\n",
       "      <th>gender</th>\n",
       "      <th>street</th>\n",
       "      <th>city</th>\n",
       "      <th>...</th>\n",
       "      <th>lat</th>\n",
       "      <th>long</th>\n",
       "      <th>city_pop</th>\n",
       "      <th>job</th>\n",
       "      <th>dob</th>\n",
       "      <th>trans_num</th>\n",
       "      <th>unix_time</th>\n",
       "      <th>merch_lat</th>\n",
       "      <th>merch_long</th>\n",
       "      <th>is_fraud</th>\n",
       "    </tr>\n",
       "  </thead>\n",
       "  <tbody>\n",
       "    <tr>\n",
       "      <th>0</th>\n",
       "      <td>2020-06-21 12:14:25</td>\n",
       "      <td>2291163933867244</td>\n",
       "      <td>fraud_Kirlin and Sons</td>\n",
       "      <td>personal_care</td>\n",
       "      <td>2.86</td>\n",
       "      <td>Jeff</td>\n",
       "      <td>Elliott</td>\n",
       "      <td>M</td>\n",
       "      <td>351 Darlene Green</td>\n",
       "      <td>Columbia</td>\n",
       "      <td>...</td>\n",
       "      <td>33.9659</td>\n",
       "      <td>-80.9355</td>\n",
       "      <td>333497</td>\n",
       "      <td>Mechanical engineer</td>\n",
       "      <td>1968-03-19</td>\n",
       "      <td>2da90c7d74bd46a0caf3777415b3ebd3</td>\n",
       "      <td>1371816865</td>\n",
       "      <td>33.986391</td>\n",
       "      <td>-81.200714</td>\n",
       "      <td>0</td>\n",
       "    </tr>\n",
       "    <tr>\n",
       "      <th>1</th>\n",
       "      <td>2020-06-21 12:14:33</td>\n",
       "      <td>3573030041201292</td>\n",
       "      <td>fraud_Sporer-Keebler</td>\n",
       "      <td>personal_care</td>\n",
       "      <td>29.84</td>\n",
       "      <td>Joanne</td>\n",
       "      <td>Williams</td>\n",
       "      <td>F</td>\n",
       "      <td>3638 Marsh Union</td>\n",
       "      <td>Altonah</td>\n",
       "      <td>...</td>\n",
       "      <td>40.3207</td>\n",
       "      <td>-110.4360</td>\n",
       "      <td>302</td>\n",
       "      <td>Sales professional, IT</td>\n",
       "      <td>1990-01-17</td>\n",
       "      <td>324cc204407e99f51b0d6ca0055005e7</td>\n",
       "      <td>1371816873</td>\n",
       "      <td>39.450498</td>\n",
       "      <td>-109.960431</td>\n",
       "      <td>0</td>\n",
       "    </tr>\n",
       "    <tr>\n",
       "      <th>2</th>\n",
       "      <td>2020-06-21 12:14:53</td>\n",
       "      <td>3598215285024754</td>\n",
       "      <td>fraud_Swaniawski, Nitzsche and Welch</td>\n",
       "      <td>health_fitness</td>\n",
       "      <td>41.28</td>\n",
       "      <td>Ashley</td>\n",
       "      <td>Lopez</td>\n",
       "      <td>F</td>\n",
       "      <td>9333 Valentine Point</td>\n",
       "      <td>Bellmore</td>\n",
       "      <td>...</td>\n",
       "      <td>40.6729</td>\n",
       "      <td>-73.5365</td>\n",
       "      <td>34496</td>\n",
       "      <td>Librarian, public</td>\n",
       "      <td>1970-10-21</td>\n",
       "      <td>c81755dbbbea9d5c77f094348a7579be</td>\n",
       "      <td>1371816893</td>\n",
       "      <td>40.495810</td>\n",
       "      <td>-74.196111</td>\n",
       "      <td>0</td>\n",
       "    </tr>\n",
       "    <tr>\n",
       "      <th>3</th>\n",
       "      <td>2020-06-21 12:15:15</td>\n",
       "      <td>3591919803438423</td>\n",
       "      <td>fraud_Haley Group</td>\n",
       "      <td>misc_pos</td>\n",
       "      <td>60.05</td>\n",
       "      <td>Brian</td>\n",
       "      <td>Williams</td>\n",
       "      <td>M</td>\n",
       "      <td>32941 Krystal Mill Apt. 552</td>\n",
       "      <td>Titusville</td>\n",
       "      <td>...</td>\n",
       "      <td>28.5697</td>\n",
       "      <td>-80.8191</td>\n",
       "      <td>54767</td>\n",
       "      <td>Set designer</td>\n",
       "      <td>1987-07-25</td>\n",
       "      <td>2159175b9efe66dc301f149d3d5abf8c</td>\n",
       "      <td>1371816915</td>\n",
       "      <td>28.812398</td>\n",
       "      <td>-80.883061</td>\n",
       "      <td>0</td>\n",
       "    </tr>\n",
       "    <tr>\n",
       "      <th>4</th>\n",
       "      <td>2020-06-21 12:15:17</td>\n",
       "      <td>3526826139003047</td>\n",
       "      <td>fraud_Johnston-Casper</td>\n",
       "      <td>travel</td>\n",
       "      <td>3.19</td>\n",
       "      <td>Nathan</td>\n",
       "      <td>Massey</td>\n",
       "      <td>M</td>\n",
       "      <td>5783 Evan Roads Apt. 465</td>\n",
       "      <td>Falmouth</td>\n",
       "      <td>...</td>\n",
       "      <td>44.2529</td>\n",
       "      <td>-85.0170</td>\n",
       "      <td>1126</td>\n",
       "      <td>Furniture designer</td>\n",
       "      <td>1955-07-06</td>\n",
       "      <td>57ff021bd3f328f8738bb535c302a31b</td>\n",
       "      <td>1371816917</td>\n",
       "      <td>44.959148</td>\n",
       "      <td>-85.884734</td>\n",
       "      <td>0</td>\n",
       "    </tr>\n",
       "  </tbody>\n",
       "</table>\n",
       "<p>5 rows × 22 columns</p>\n",
       "</div>"
      ],
      "text/plain": [
       "  trans_date_trans_time            cc_num  \\\n",
       "0   2020-06-21 12:14:25  2291163933867244   \n",
       "1   2020-06-21 12:14:33  3573030041201292   \n",
       "2   2020-06-21 12:14:53  3598215285024754   \n",
       "3   2020-06-21 12:15:15  3591919803438423   \n",
       "4   2020-06-21 12:15:17  3526826139003047   \n",
       "\n",
       "                               merchant        category    amt   first  \\\n",
       "0                 fraud_Kirlin and Sons   personal_care   2.86    Jeff   \n",
       "1                  fraud_Sporer-Keebler   personal_care  29.84  Joanne   \n",
       "2  fraud_Swaniawski, Nitzsche and Welch  health_fitness  41.28  Ashley   \n",
       "3                     fraud_Haley Group        misc_pos  60.05   Brian   \n",
       "4                 fraud_Johnston-Casper          travel   3.19  Nathan   \n",
       "\n",
       "       last gender                       street        city  ...      lat  \\\n",
       "0   Elliott      M            351 Darlene Green    Columbia  ...  33.9659   \n",
       "1  Williams      F             3638 Marsh Union     Altonah  ...  40.3207   \n",
       "2     Lopez      F         9333 Valentine Point    Bellmore  ...  40.6729   \n",
       "3  Williams      M  32941 Krystal Mill Apt. 552  Titusville  ...  28.5697   \n",
       "4    Massey      M     5783 Evan Roads Apt. 465    Falmouth  ...  44.2529   \n",
       "\n",
       "       long  city_pop                     job         dob  \\\n",
       "0  -80.9355    333497     Mechanical engineer  1968-03-19   \n",
       "1 -110.4360       302  Sales professional, IT  1990-01-17   \n",
       "2  -73.5365     34496       Librarian, public  1970-10-21   \n",
       "3  -80.8191     54767            Set designer  1987-07-25   \n",
       "4  -85.0170      1126      Furniture designer  1955-07-06   \n",
       "\n",
       "                          trans_num   unix_time  merch_lat  merch_long  \\\n",
       "0  2da90c7d74bd46a0caf3777415b3ebd3  1371816865  33.986391  -81.200714   \n",
       "1  324cc204407e99f51b0d6ca0055005e7  1371816873  39.450498 -109.960431   \n",
       "2  c81755dbbbea9d5c77f094348a7579be  1371816893  40.495810  -74.196111   \n",
       "3  2159175b9efe66dc301f149d3d5abf8c  1371816915  28.812398  -80.883061   \n",
       "4  57ff021bd3f328f8738bb535c302a31b  1371816917  44.959148  -85.884734   \n",
       "\n",
       "   is_fraud  \n",
       "0         0  \n",
       "1         0  \n",
       "2         0  \n",
       "3         0  \n",
       "4         0  \n",
       "\n",
       "[5 rows x 22 columns]"
      ]
     },
     "execution_count": 59,
     "metadata": {},
     "output_type": "execute_result"
    }
   ],
   "source": [
    "new_df = test_df.copy()\n",
    "new_df.head()"
   ]
  },
  {
   "cell_type": "code",
   "execution_count": 60,
   "id": "f45d0366-7989-491b-a4fc-6f7793a76547",
   "metadata": {},
   "outputs": [
    {
     "data": {
      "text/html": [
       "<div>\n",
       "<style scoped>\n",
       "    .dataframe tbody tr th:only-of-type {\n",
       "        vertical-align: middle;\n",
       "    }\n",
       "\n",
       "    .dataframe tbody tr th {\n",
       "        vertical-align: top;\n",
       "    }\n",
       "\n",
       "    .dataframe thead th {\n",
       "        text-align: right;\n",
       "    }\n",
       "</style>\n",
       "<table border=\"1\" class=\"dataframe\">\n",
       "  <thead>\n",
       "    <tr style=\"text-align: right;\">\n",
       "      <th></th>\n",
       "      <th>trans_date_trans_time</th>\n",
       "      <th>cc_num</th>\n",
       "      <th>merchant</th>\n",
       "      <th>category</th>\n",
       "      <th>amt</th>\n",
       "      <th>first</th>\n",
       "      <th>last</th>\n",
       "      <th>gender</th>\n",
       "      <th>street</th>\n",
       "      <th>city</th>\n",
       "      <th>...</th>\n",
       "      <th>job</th>\n",
       "      <th>dob</th>\n",
       "      <th>trans_num</th>\n",
       "      <th>unix_time</th>\n",
       "      <th>merch_lat</th>\n",
       "      <th>merch_long</th>\n",
       "      <th>is_fraud</th>\n",
       "      <th>IF_pred</th>\n",
       "      <th>LOF_pred</th>\n",
       "      <th>AE_pred</th>\n",
       "    </tr>\n",
       "  </thead>\n",
       "  <tbody>\n",
       "    <tr>\n",
       "      <th>0</th>\n",
       "      <td>2020-06-21 12:14:25</td>\n",
       "      <td>2291163933867244</td>\n",
       "      <td>fraud_Kirlin and Sons</td>\n",
       "      <td>personal_care</td>\n",
       "      <td>2.86</td>\n",
       "      <td>Jeff</td>\n",
       "      <td>Elliott</td>\n",
       "      <td>M</td>\n",
       "      <td>351 Darlene Green</td>\n",
       "      <td>Columbia</td>\n",
       "      <td>...</td>\n",
       "      <td>Mechanical engineer</td>\n",
       "      <td>1968-03-19</td>\n",
       "      <td>2da90c7d74bd46a0caf3777415b3ebd3</td>\n",
       "      <td>1371816865</td>\n",
       "      <td>33.986391</td>\n",
       "      <td>-81.200714</td>\n",
       "      <td>0</td>\n",
       "      <td>0</td>\n",
       "      <td>0</td>\n",
       "      <td>0</td>\n",
       "    </tr>\n",
       "    <tr>\n",
       "      <th>1</th>\n",
       "      <td>2020-06-21 12:14:33</td>\n",
       "      <td>3573030041201292</td>\n",
       "      <td>fraud_Sporer-Keebler</td>\n",
       "      <td>personal_care</td>\n",
       "      <td>29.84</td>\n",
       "      <td>Joanne</td>\n",
       "      <td>Williams</td>\n",
       "      <td>F</td>\n",
       "      <td>3638 Marsh Union</td>\n",
       "      <td>Altonah</td>\n",
       "      <td>...</td>\n",
       "      <td>Sales professional, IT</td>\n",
       "      <td>1990-01-17</td>\n",
       "      <td>324cc204407e99f51b0d6ca0055005e7</td>\n",
       "      <td>1371816873</td>\n",
       "      <td>39.450498</td>\n",
       "      <td>-109.960431</td>\n",
       "      <td>0</td>\n",
       "      <td>0</td>\n",
       "      <td>0</td>\n",
       "      <td>0</td>\n",
       "    </tr>\n",
       "    <tr>\n",
       "      <th>2</th>\n",
       "      <td>2020-06-21 12:14:53</td>\n",
       "      <td>3598215285024754</td>\n",
       "      <td>fraud_Swaniawski, Nitzsche and Welch</td>\n",
       "      <td>health_fitness</td>\n",
       "      <td>41.28</td>\n",
       "      <td>Ashley</td>\n",
       "      <td>Lopez</td>\n",
       "      <td>F</td>\n",
       "      <td>9333 Valentine Point</td>\n",
       "      <td>Bellmore</td>\n",
       "      <td>...</td>\n",
       "      <td>Librarian, public</td>\n",
       "      <td>1970-10-21</td>\n",
       "      <td>c81755dbbbea9d5c77f094348a7579be</td>\n",
       "      <td>1371816893</td>\n",
       "      <td>40.495810</td>\n",
       "      <td>-74.196111</td>\n",
       "      <td>0</td>\n",
       "      <td>0</td>\n",
       "      <td>0</td>\n",
       "      <td>0</td>\n",
       "    </tr>\n",
       "    <tr>\n",
       "      <th>3</th>\n",
       "      <td>2020-06-21 12:15:15</td>\n",
       "      <td>3591919803438423</td>\n",
       "      <td>fraud_Haley Group</td>\n",
       "      <td>misc_pos</td>\n",
       "      <td>60.05</td>\n",
       "      <td>Brian</td>\n",
       "      <td>Williams</td>\n",
       "      <td>M</td>\n",
       "      <td>32941 Krystal Mill Apt. 552</td>\n",
       "      <td>Titusville</td>\n",
       "      <td>...</td>\n",
       "      <td>Set designer</td>\n",
       "      <td>1987-07-25</td>\n",
       "      <td>2159175b9efe66dc301f149d3d5abf8c</td>\n",
       "      <td>1371816915</td>\n",
       "      <td>28.812398</td>\n",
       "      <td>-80.883061</td>\n",
       "      <td>0</td>\n",
       "      <td>0</td>\n",
       "      <td>0</td>\n",
       "      <td>0</td>\n",
       "    </tr>\n",
       "    <tr>\n",
       "      <th>4</th>\n",
       "      <td>2020-06-21 12:15:17</td>\n",
       "      <td>3526826139003047</td>\n",
       "      <td>fraud_Johnston-Casper</td>\n",
       "      <td>travel</td>\n",
       "      <td>3.19</td>\n",
       "      <td>Nathan</td>\n",
       "      <td>Massey</td>\n",
       "      <td>M</td>\n",
       "      <td>5783 Evan Roads Apt. 465</td>\n",
       "      <td>Falmouth</td>\n",
       "      <td>...</td>\n",
       "      <td>Furniture designer</td>\n",
       "      <td>1955-07-06</td>\n",
       "      <td>57ff021bd3f328f8738bb535c302a31b</td>\n",
       "      <td>1371816917</td>\n",
       "      <td>44.959148</td>\n",
       "      <td>-85.884734</td>\n",
       "      <td>0</td>\n",
       "      <td>0</td>\n",
       "      <td>0</td>\n",
       "      <td>0</td>\n",
       "    </tr>\n",
       "  </tbody>\n",
       "</table>\n",
       "<p>5 rows × 25 columns</p>\n",
       "</div>"
      ],
      "text/plain": [
       "  trans_date_trans_time            cc_num  \\\n",
       "0   2020-06-21 12:14:25  2291163933867244   \n",
       "1   2020-06-21 12:14:33  3573030041201292   \n",
       "2   2020-06-21 12:14:53  3598215285024754   \n",
       "3   2020-06-21 12:15:15  3591919803438423   \n",
       "4   2020-06-21 12:15:17  3526826139003047   \n",
       "\n",
       "                               merchant        category    amt   first  \\\n",
       "0                 fraud_Kirlin and Sons   personal_care   2.86    Jeff   \n",
       "1                  fraud_Sporer-Keebler   personal_care  29.84  Joanne   \n",
       "2  fraud_Swaniawski, Nitzsche and Welch  health_fitness  41.28  Ashley   \n",
       "3                     fraud_Haley Group        misc_pos  60.05   Brian   \n",
       "4                 fraud_Johnston-Casper          travel   3.19  Nathan   \n",
       "\n",
       "       last gender                       street        city  ...  \\\n",
       "0   Elliott      M            351 Darlene Green    Columbia  ...   \n",
       "1  Williams      F             3638 Marsh Union     Altonah  ...   \n",
       "2     Lopez      F         9333 Valentine Point    Bellmore  ...   \n",
       "3  Williams      M  32941 Krystal Mill Apt. 552  Titusville  ...   \n",
       "4    Massey      M     5783 Evan Roads Apt. 465    Falmouth  ...   \n",
       "\n",
       "                      job         dob                         trans_num  \\\n",
       "0     Mechanical engineer  1968-03-19  2da90c7d74bd46a0caf3777415b3ebd3   \n",
       "1  Sales professional, IT  1990-01-17  324cc204407e99f51b0d6ca0055005e7   \n",
       "2       Librarian, public  1970-10-21  c81755dbbbea9d5c77f094348a7579be   \n",
       "3            Set designer  1987-07-25  2159175b9efe66dc301f149d3d5abf8c   \n",
       "4      Furniture designer  1955-07-06  57ff021bd3f328f8738bb535c302a31b   \n",
       "\n",
       "    unix_time  merch_lat  merch_long is_fraud IF_pred  LOF_pred  AE_pred  \n",
       "0  1371816865  33.986391  -81.200714        0       0         0        0  \n",
       "1  1371816873  39.450498 -109.960431        0       0         0        0  \n",
       "2  1371816893  40.495810  -74.196111        0       0         0        0  \n",
       "3  1371816915  28.812398  -80.883061        0       0         0        0  \n",
       "4  1371816917  44.959148  -85.884734        0       0         0        0  \n",
       "\n",
       "[5 rows x 25 columns]"
      ]
     },
     "execution_count": 60,
     "metadata": {},
     "output_type": "execute_result"
    }
   ],
   "source": [
    "new_df['IF_pred'] = test_preds_iso\n",
    "new_df['LOF_pred'] = test_preds_lof\n",
    "new_df['AE_pred'] = y_pred_ae\n",
    "\n",
    "new_df.head()"
   ]
  },
  {
   "cell_type": "code",
   "execution_count": 62,
   "id": "7240cd94-d0f9-429b-b604-46e253bb99bb",
   "metadata": {},
   "outputs": [],
   "source": [
    "new_df.to_csv(r\"D:\\ML_Projects\\ScienapticAI\\fraudTest_Pred.csv\")"
   ]
  },
  {
   "cell_type": "markdown",
   "id": "lprKZ4CktHCO",
   "metadata": {
    "id": "lprKZ4CktHCO"
   },
   "source": [
    "## Conclusion\n",
    "\n",
    "- Autoencoder model performed the best showing the highest ROC-AUC value\n",
    "\n",
    "\n",
    "## Future Enhancements\n",
    "\n",
    "- Hyper-parameter tuning can be performed to enhance the model accuracy.\n",
    "- Ensemble model (of the three models used here) can be tried out."
   ]
  }
 ],
 "metadata": {
  "colab": {
   "provenance": []
  },
  "kernelspec": {
   "display_name": "Python 3 (ipykernel)",
   "language": "python",
   "name": "python3"
  },
  "language_info": {
   "codemirror_mode": {
    "name": "ipython",
    "version": 3
   },
   "file_extension": ".py",
   "mimetype": "text/x-python",
   "name": "python",
   "nbconvert_exporter": "python",
   "pygments_lexer": "ipython3",
   "version": "3.11.9"
  }
 },
 "nbformat": 4,
 "nbformat_minor": 5
}
